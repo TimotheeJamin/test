{
 "cells": [
  {
   "cell_type": "",
   "metadata": {},
   "source": [
    "<table style=\"float:left; border:none\">\n",
    "   <tr style=\"border:none\">\n",
    "       <td style=\"border:none\">\n",
    "           <a href=\"https://bokeh.org/\">     \n",
    "           <img \n",
    "               src=\"assets/bokeh-transparent.png\" \n",
    "               style=\"width:50px\"\n",
    "           >\n",
    "           </a>    \n",
    "       </td>\n",
    "       <td style=\"border:none\">\n",
    "           <h1>Bokeh Tutorial</h1>\n",
    "       </td>\n",
    "   </tr>\n",
    "</table>\n",
    "\n",
    "<div style=\"float:right;\"><h2>06. Linking and Interactions</h2></div>"
   ]
  },
  {
   "cell_type": "code",
   "execution_count": 1,
   "metadata": {},
   "outputs": [
    {
     "data": {
      "text/html": [
       "\n",
       "    <div class=\"bk-root\">\n",
       "        <a href=\"https://bokeh.org\" target=\"_blank\" class=\"bk-logo bk-logo-small bk-logo-notebook\"></a>\n",
       "        <span id=\"1001\">Loading BokehJS ...</span>\n",
       "    </div>"
      ]
     },
     "metadata": {},
     "output_type": "display_data"
    },
    {
     "data": {
      "application/javascript": [
       "\n",
       "(function(root) {\n",
       "  function now() {\n",
       "    return new Date();\n",
       "  }\n",
       "\n",
       "  var force = true;\n",
       "\n",
       "  if (typeof root._bokeh_onload_callbacks === \"undefined\" || force === true) {\n",
       "    root._bokeh_onload_callbacks = [];\n",
       "    root._bokeh_is_loading = undefined;\n",
       "  }\n",
       "\n",
       "  var JS_MIME_TYPE = 'application/javascript';\n",
       "  var HTML_MIME_TYPE = 'text/html';\n",
       "  var EXEC_MIME_TYPE = 'application/vnd.bokehjs_exec.v0+json';\n",
       "  var CLASS_NAME = 'output_bokeh rendered_html';\n",
       "\n",
       "  /**\n",
       "   * Render data to the DOM node\n",
       "   */\n",
       "  function render(props, node) {\n",
       "    var script = document.createElement(\"script\");\n",
       "    node.appendChild(script);\n",
       "  }\n",
       "\n",
       "  /**\n",
       "   * Handle when an output is cleared or removed\n",
       "   */\n",
       "  function handleClearOutput(event, handle) {\n",
       "    var cell = handle.cell;\n",
       "\n",
       "    var id = cell.output_area._bokeh_element_id;\n",
       "    var server_id = cell.output_area._bokeh_server_id;\n",
       "    // Clean up Bokeh references\n",
       "    if (id != null && id in Bokeh.index) {\n",
       "      Bokeh.index[id].model.document.clear();\n",
       "      delete Bokeh.index[id];\n",
       "    }\n",
       "\n",
       "    if (server_id !== undefined) {\n",
       "      // Clean up Bokeh references\n",
       "      var cmd = \"from bokeh.io.state import curstate; print(curstate().uuid_to_server['\" + server_id + \"'].get_sessions()[0].document.roots[0]._id)\";\n",
       "      cell.notebook.kernel.execute(cmd, {\n",
       "        iopub: {\n",
       "          output: function(msg) {\n",
       "            var id = msg.content.text.trim();\n",
       "            if (id in Bokeh.index) {\n",
       "              Bokeh.index[id].model.document.clear();\n",
       "              delete Bokeh.index[id];\n",
       "            }\n",
       "          }\n",
       "        }\n",
       "      });\n",
       "      // Destroy server and session\n",
       "      var cmd = \"import bokeh.io.notebook as ion; ion.destroy_server('\" + server_id + \"')\";\n",
       "      cell.notebook.kernel.execute(cmd);\n",
       "    }\n",
       "  }\n",
       "\n",
       "  /**\n",
       "   * Handle when a new output is added\n",
       "   */\n",
       "  function handleAddOutput(event, handle) {\n",
       "    var output_area = handle.output_area;\n",
       "    var output = handle.output;\n",
       "\n",
       "    // limit handleAddOutput to display_data with EXEC_MIME_TYPE content only\n",
       "    if ((output.output_type != \"display_data\") || (!output.data.hasOwnProperty(EXEC_MIME_TYPE))) {\n",
       "      return\n",
       "    }\n",
       "\n",
       "    var toinsert = output_area.element.find(\".\" + CLASS_NAME.split(' ')[0]);\n",
       "\n",
       "    if (output.metadata[EXEC_MIME_TYPE][\"id\"] !== undefined) {\n",
       "      toinsert[toinsert.length - 1].firstChild.textContent = output.data[JS_MIME_TYPE];\n",
       "      // store reference to embed id on output_area\n",
       "      output_area._bokeh_element_id = output.metadata[EXEC_MIME_TYPE][\"id\"];\n",
       "    }\n",
       "    if (output.metadata[EXEC_MIME_TYPE][\"server_id\"] !== undefined) {\n",
       "      var bk_div = document.createElement(\"div\");\n",
       "      bk_div.innerHTML = output.data[HTML_MIME_TYPE];\n",
       "      var script_attrs = bk_div.children[0].attributes;\n",
       "      for (var i = 0; i < script_attrs.length; i++) {\n",
       "        toinsert[toinsert.length - 1].firstChild.setAttribute(script_attrs[i].name, script_attrs[i].value);\n",
       "        toinsert[toinsert.length - 1].firstChild.textContent = bk_div.children[0].textContent\n",
       "      }\n",
       "      // store reference to server id on output_area\n",
       "      output_area._bokeh_server_id = output.metadata[EXEC_MIME_TYPE][\"server_id\"];\n",
       "    }\n",
       "  }\n",
       "\n",
       "  function register_renderer(events, OutputArea) {\n",
       "\n",
       "    function append_mime(data, metadata, element) {\n",
       "      // create a DOM node to render to\n",
       "      var toinsert = this.create_output_subarea(\n",
       "        metadata,\n",
       "        CLASS_NAME,\n",
       "        EXEC_MIME_TYPE\n",
       "      );\n",
       "      this.keyboard_manager.register_events(toinsert);\n",
       "      // Render to node\n",
       "      var props = {data: data, metadata: metadata[EXEC_MIME_TYPE]};\n",
       "      render(props, toinsert[toinsert.length - 1]);\n",
       "      element.append(toinsert);\n",
       "      return toinsert\n",
       "    }\n",
       "\n",
       "    /* Handle when an output is cleared or removed */\n",
       "    events.on('clear_output.CodeCell', handleClearOutput);\n",
       "    events.on('delete.Cell', handleClearOutput);\n",
       "\n",
       "    /* Handle when a new output is added */\n",
       "    events.on('output_added.OutputArea', handleAddOutput);\n",
       "\n",
       "    /**\n",
       "     * Register the mime type and append_mime function with output_area\n",
       "     */\n",
       "    OutputArea.prototype.register_mime_type(EXEC_MIME_TYPE, append_mime, {\n",
       "      /* Is output safe? */\n",
       "      safe: true,\n",
       "      /* Index of renderer in `output_area.display_order` */\n",
       "      index: 0\n",
       "    });\n",
       "  }\n",
       "\n",
       "  // register the mime type if in Jupyter Notebook environment and previously unregistered\n",
       "  if (root.Jupyter !== undefined) {\n",
       "    var events = require('base/js/events');\n",
       "    var OutputArea = require('notebook/js/outputarea').OutputArea;\n",
       "\n",
       "    if (OutputArea.prototype.mime_types().indexOf(EXEC_MIME_TYPE) == -1) {\n",
       "      register_renderer(events, OutputArea);\n",
       "    }\n",
       "  }\n",
       "\n",
       "  \n",
       "  if (typeof (root._bokeh_timeout) === \"undefined\" || force === true) {\n",
       "    root._bokeh_timeout = Date.now() + 5000;\n",
       "    root._bokeh_failed_load = false;\n",
       "  }\n",
       "\n",
       "  var NB_LOAD_WARNING = {'data': {'text/html':\n",
       "     \"<div style='background-color: #fdd'>\\n\"+\n",
       "     \"<p>\\n\"+\n",
       "     \"BokehJS does not appear to have successfully loaded. If loading BokehJS from CDN, this \\n\"+\n",
       "     \"may be due to a slow or bad network connection. Possible fixes:\\n\"+\n",
       "     \"</p>\\n\"+\n",
       "     \"<ul>\\n\"+\n",
       "     \"<li>re-rerun `output_notebook()` to attempt to load from CDN again, or</li>\\n\"+\n",
       "     \"<li>use INLINE resources instead, as so:</li>\\n\"+\n",
       "     \"</ul>\\n\"+\n",
       "     \"<code>\\n\"+\n",
       "     \"from bokeh.resources import INLINE\\n\"+\n",
       "     \"output_notebook(resources=INLINE)\\n\"+\n",
       "     \"</code>\\n\"+\n",
       "     \"</div>\"}};\n",
       "\n",
       "  function display_loaded() {\n",
       "    var el = document.getElementById(\"1001\");\n",
       "    if (el != null) {\n",
       "      el.textContent = \"BokehJS is loading...\";\n",
       "    }\n",
       "    if (root.Bokeh !== undefined) {\n",
       "      if (el != null) {\n",
       "        el.textContent = \"BokehJS \" + root.Bokeh.version + \" successfully loaded.\";\n",
       "      }\n",
       "    } else if (Date.now() < root._bokeh_timeout) {\n",
       "      setTimeout(display_loaded, 100)\n",
       "    }\n",
       "  }\n",
       "\n",
       "\n",
       "  function run_callbacks() {\n",
       "    try {\n",
       "      root._bokeh_onload_callbacks.forEach(function(callback) {\n",
       "        if (callback != null)\n",
       "          callback();\n",
       "      });\n",
       "    } finally {\n",
       "      delete root._bokeh_onload_callbacks\n",
       "    }\n",
       "    console.debug(\"Bokeh: all callbacks have finished\");\n",
       "  }\n",
       "\n",
       "  function load_libs(css_urls, js_urls, callback) {\n",
       "    if (css_urls == null) css_urls = [];\n",
       "    if (js_urls == null) js_urls = [];\n",
       "\n",
       "    root._bokeh_onload_callbacks.push(callback);\n",
       "    if (root._bokeh_is_loading > 0) {\n",
       "      console.debug(\"Bokeh: BokehJS is being loaded, scheduling callback at\", now());\n",
       "      return null;\n",
       "    }\n",
       "    if (js_urls == null || js_urls.length === 0) {\n",
       "      run_callbacks();\n",
       "      return null;\n",
       "    }\n",
       "    console.debug(\"Bokeh: BokehJS not loaded, scheduling load and callback at\", now());\n",
       "    root._bokeh_is_loading = css_urls.length + js_urls.length;\n",
       "\n",
       "    function on_load() {\n",
       "      root._bokeh_is_loading--;\n",
       "      if (root._bokeh_is_loading === 0) {\n",
       "        console.debug(\"Bokeh: all BokehJS libraries/stylesheets loaded\");\n",
       "        run_callbacks()\n",
       "      }\n",
       "    }\n",
       "\n",
       "    function on_error() {\n",
       "      console.error(\"failed to load \" + url);\n",
       "    }\n",
       "\n",
       "    for (var i = 0; i < css_urls.length; i++) {\n",
       "      var url = css_urls[i];\n",
       "      const element = document.createElement(\"link\");\n",
       "      element.onload = on_load;\n",
       "      element.onerror = on_error;\n",
       "      element.rel = \"stylesheet\";\n",
       "      element.type = \"text/css\";\n",
       "      element.href = url;\n",
       "      console.debug(\"Bokeh: injecting link tag for BokehJS stylesheet: \", url);\n",
       "      document.body.appendChild(element);\n",
       "    }\n",
       "\n",
       "    const hashes = {\"https://cdn.bokeh.org/bokeh/release/bokeh-2.1.1.min.js\": \"kLr4fYcqcSpbuI95brIH3vnnYCquzzSxHPU6XGQCIkQRGJwhg0StNbj1eegrHs12\", \"https://cdn.bokeh.org/bokeh/release/bokeh-widgets-2.1.1.min.js\": \"xIGPmVtaOm+z0BqfSOMn4lOR6ciex448GIKG4eE61LsAvmGj48XcMQZtKcE/UXZe\", \"https://cdn.bokeh.org/bokeh/release/bokeh-tables-2.1.1.min.js\": \"Dc9u1wF/0zApGIWoBbH77iWEHtdmkuYWG839Uzmv8y8yBLXebjO9ZnERsde5Ln/P\", \"https://cdn.bokeh.org/bokeh/release/bokeh-gl-2.1.1.min.js\": \"cT9JaBz7GiRXdENrJLZNSC6eMNF3nh3fa5fTF51Svp+ukxPdwcU5kGXGPBgDCa2j\"};\n",
       "\n",
       "    for (var i = 0; i < js_urls.length; i++) {\n",
       "      var url = js_urls[i];\n",
       "      var element = document.createElement('script');\n",
       "      element.onload = on_load;\n",
       "      element.onerror = on_error;\n",
       "      element.async = false;\n",
       "      element.src = url;\n",
       "      if (url in hashes) {\n",
       "        element.crossOrigin = \"anonymous\";\n",
       "        element.integrity = \"sha384-\" + hashes[url];\n",
       "      }\n",
       "      console.debug(\"Bokeh: injecting script tag for BokehJS library: \", url);\n",
       "      document.head.appendChild(element);\n",
       "    }\n",
       "  };\n",
       "\n",
       "  function inject_raw_css(css) {\n",
       "    const element = document.createElement(\"style\");\n",
       "    element.appendChild(document.createTextNode(css));\n",
       "    document.body.appendChild(element);\n",
       "  }\n",
       "\n",
       "  \n",
       "  var js_urls = [\"https://cdn.bokeh.org/bokeh/release/bokeh-2.1.1.min.js\", \"https://cdn.bokeh.org/bokeh/release/bokeh-widgets-2.1.1.min.js\", \"https://cdn.bokeh.org/bokeh/release/bokeh-tables-2.1.1.min.js\", \"https://cdn.bokeh.org/bokeh/release/bokeh-gl-2.1.1.min.js\"];\n",
       "  var css_urls = [];\n",
       "  \n",
       "\n",
       "  var inline_js = [\n",
       "    function(Bokeh) {\n",
       "      Bokeh.set_log_level(\"info\");\n",
       "    },\n",
       "    function(Bokeh) {\n",
       "    \n",
       "    \n",
       "    }\n",
       "  ];\n",
       "\n",
       "  function run_inline_js() {\n",
       "    \n",
       "    if (root.Bokeh !== undefined || force === true) {\n",
       "      \n",
       "    for (var i = 0; i < inline_js.length; i++) {\n",
       "      inline_js[i].call(root, root.Bokeh);\n",
       "    }\n",
       "    if (force === true) {\n",
       "        display_loaded();\n",
       "      }} else if (Date.now() < root._bokeh_timeout) {\n",
       "      setTimeout(run_inline_js, 100);\n",
       "    } else if (!root._bokeh_failed_load) {\n",
       "      console.log(\"Bokeh: BokehJS failed to load within specified timeout.\");\n",
       "      root._bokeh_failed_load = true;\n",
       "    } else if (force !== true) {\n",
       "      var cell = $(document.getElementById(\"1001\")).parents('.cell').data().cell;\n",
       "      cell.output_area.append_execute_result(NB_LOAD_WARNING)\n",
       "    }\n",
       "\n",
       "  }\n",
       "\n",
       "  if (root._bokeh_is_loading === 0) {\n",
       "    console.debug(\"Bokeh: BokehJS loaded, going straight to plotting\");\n",
       "    run_inline_js();\n",
       "  } else {\n",
       "    load_libs(css_urls, js_urls, function() {\n",
       "      console.debug(\"Bokeh: BokehJS plotting callback run at\", now());\n",
       "      run_inline_js();\n",
       "    });\n",
       "  }\n",
       "}(window));"
      ],
      "application/vnd.bokehjs_load.v0+json": "\n(function(root) {\n  function now() {\n    return new Date();\n  }\n\n  var force = true;\n\n  if (typeof root._bokeh_onload_callbacks === \"undefined\" || force === true) {\n    root._bokeh_onload_callbacks = [];\n    root._bokeh_is_loading = undefined;\n  }\n\n  \n\n  \n  if (typeof (root._bokeh_timeout) === \"undefined\" || force === true) {\n    root._bokeh_timeout = Date.now() + 5000;\n    root._bokeh_failed_load = false;\n  }\n\n  var NB_LOAD_WARNING = {'data': {'text/html':\n     \"<div style='background-color: #fdd'>\\n\"+\n     \"<p>\\n\"+\n     \"BokehJS does not appear to have successfully loaded. If loading BokehJS from CDN, this \\n\"+\n     \"may be due to a slow or bad network connection. Possible fixes:\\n\"+\n     \"</p>\\n\"+\n     \"<ul>\\n\"+\n     \"<li>re-rerun `output_notebook()` to attempt to load from CDN again, or</li>\\n\"+\n     \"<li>use INLINE resources instead, as so:</li>\\n\"+\n     \"</ul>\\n\"+\n     \"<code>\\n\"+\n     \"from bokeh.resources import INLINE\\n\"+\n     \"output_notebook(resources=INLINE)\\n\"+\n     \"</code>\\n\"+\n     \"</div>\"}};\n\n  function display_loaded() {\n    var el = document.getElementById(\"1001\");\n    if (el != null) {\n      el.textContent = \"BokehJS is loading...\";\n    }\n    if (root.Bokeh !== undefined) {\n      if (el != null) {\n        el.textContent = \"BokehJS \" + root.Bokeh.version + \" successfully loaded.\";\n      }\n    } else if (Date.now() < root._bokeh_timeout) {\n      setTimeout(display_loaded, 100)\n    }\n  }\n\n\n  function run_callbacks() {\n    try {\n      root._bokeh_onload_callbacks.forEach(function(callback) {\n        if (callback != null)\n          callback();\n      });\n    } finally {\n      delete root._bokeh_onload_callbacks\n    }\n    console.debug(\"Bokeh: all callbacks have finished\");\n  }\n\n  function load_libs(css_urls, js_urls, callback) {\n    if (css_urls == null) css_urls = [];\n    if (js_urls == null) js_urls = [];\n\n    root._bokeh_onload_callbacks.push(callback);\n    if (root._bokeh_is_loading > 0) {\n      console.debug(\"Bokeh: BokehJS is being loaded, scheduling callback at\", now());\n      return null;\n    }\n    if (js_urls == null || js_urls.length === 0) {\n      run_callbacks();\n      return null;\n    }\n    console.debug(\"Bokeh: BokehJS not loaded, scheduling load and callback at\", now());\n    root._bokeh_is_loading = css_urls.length + js_urls.length;\n\n    function on_load() {\n      root._bokeh_is_loading--;\n      if (root._bokeh_is_loading === 0) {\n        console.debug(\"Bokeh: all BokehJS libraries/stylesheets loaded\");\n        run_callbacks()\n      }\n    }\n\n    function on_error() {\n      console.error(\"failed to load \" + url);\n    }\n\n    for (var i = 0; i < css_urls.length; i++) {\n      var url = css_urls[i];\n      const element = document.createElement(\"link\");\n      element.onload = on_load;\n      element.onerror = on_error;\n      element.rel = \"stylesheet\";\n      element.type = \"text/css\";\n      element.href = url;\n      console.debug(\"Bokeh: injecting link tag for BokehJS stylesheet: \", url);\n      document.body.appendChild(element);\n    }\n\n    const hashes = {\"https://cdn.bokeh.org/bokeh/release/bokeh-2.1.1.min.js\": \"kLr4fYcqcSpbuI95brIH3vnnYCquzzSxHPU6XGQCIkQRGJwhg0StNbj1eegrHs12\", \"https://cdn.bokeh.org/bokeh/release/bokeh-widgets-2.1.1.min.js\": \"xIGPmVtaOm+z0BqfSOMn4lOR6ciex448GIKG4eE61LsAvmGj48XcMQZtKcE/UXZe\", \"https://cdn.bokeh.org/bokeh/release/bokeh-tables-2.1.1.min.js\": \"Dc9u1wF/0zApGIWoBbH77iWEHtdmkuYWG839Uzmv8y8yBLXebjO9ZnERsde5Ln/P\", \"https://cdn.bokeh.org/bokeh/release/bokeh-gl-2.1.1.min.js\": \"cT9JaBz7GiRXdENrJLZNSC6eMNF3nh3fa5fTF51Svp+ukxPdwcU5kGXGPBgDCa2j\"};\n\n    for (var i = 0; i < js_urls.length; i++) {\n      var url = js_urls[i];\n      var element = document.createElement('script');\n      element.onload = on_load;\n      element.onerror = on_error;\n      element.async = false;\n      element.src = url;\n      if (url in hashes) {\n        element.crossOrigin = \"anonymous\";\n        element.integrity = \"sha384-\" + hashes[url];\n      }\n      console.debug(\"Bokeh: injecting script tag for BokehJS library: \", url);\n      document.head.appendChild(element);\n    }\n  };\n\n  function inject_raw_css(css) {\n    const element = document.createElement(\"style\");\n    element.appendChild(document.createTextNode(css));\n    document.body.appendChild(element);\n  }\n\n  \n  var js_urls = [\"https://cdn.bokeh.org/bokeh/release/bokeh-2.1.1.min.js\", \"https://cdn.bokeh.org/bokeh/release/bokeh-widgets-2.1.1.min.js\", \"https://cdn.bokeh.org/bokeh/release/bokeh-tables-2.1.1.min.js\", \"https://cdn.bokeh.org/bokeh/release/bokeh-gl-2.1.1.min.js\"];\n  var css_urls = [];\n  \n\n  var inline_js = [\n    function(Bokeh) {\n      Bokeh.set_log_level(\"info\");\n    },\n    function(Bokeh) {\n    \n    \n    }\n  ];\n\n  function run_inline_js() {\n    \n    if (root.Bokeh !== undefined || force === true) {\n      \n    for (var i = 0; i < inline_js.length; i++) {\n      inline_js[i].call(root, root.Bokeh);\n    }\n    if (force === true) {\n        display_loaded();\n      }} else if (Date.now() < root._bokeh_timeout) {\n      setTimeout(run_inline_js, 100);\n    } else if (!root._bokeh_failed_load) {\n      console.log(\"Bokeh: BokehJS failed to load within specified timeout.\");\n      root._bokeh_failed_load = true;\n    } else if (force !== true) {\n      var cell = $(document.getElementById(\"1001\")).parents('.cell').data().cell;\n      cell.output_area.append_execute_result(NB_LOAD_WARNING)\n    }\n\n  }\n\n  if (root._bokeh_is_loading === 0) {\n    console.debug(\"Bokeh: BokehJS loaded, going straight to plotting\");\n    run_inline_js();\n  } else {\n    load_libs(css_urls, js_urls, function() {\n      console.debug(\"Bokeh: BokehJS plotting callback run at\", now());\n      run_inline_js();\n    });\n  }\n}(window));"
     },
     "metadata": {},
     "output_type": "display_data"
    }
   ],
   "source": [
    "from bokeh.io import output_notebook, show\n",
    "from bokeh.plotting import figure\n",
    "output_notebook()"
   ]
  },
  {
   "cell_type": "markdown",
   "metadata": {},
   "source": [
    "Now that we know from the previous chapter how multiple plots can be placed together in a layout, we can start to look at how different plots can be linked togeher, or how plots can be linked to widgets. "
   ]
  },
  {
   "cell_type": "markdown",
   "metadata": {},
   "source": [
    "# Linked Interactions\n",
    "\n",
    "It is possible to link various interactions between different Bokeh plots. For instance, the ranges of two (or more) plots can be linked, so that when one of the plots is panned (or zoomed, or otherwise has its range changed) the other plots will update in unison. It is also possible to link selections between two plots, so that when items are selected on one plot, the corresponding items on the second plot also become selected. "
   ]
  },
  {
   "cell_type": "markdown",
   "metadata": {},
   "source": [
    "## Linked panning\n",
    "\n",
    "Linked panning (when multiple plots have ranges that stay in sync) is simple to spell with Bokeh. You simply share the appropriate range objects between two (or more) plots. The example below shows how to accomplish this by linking the ranges of three plots in various ways:"
   ]
  },
  {
   "cell_type": "code",
   "execution_count": 2,
   "metadata": {},
   "outputs": [
    {
     "data": {
      "text/html": [
       "\n",
       "\n",
       "\n",
       "\n",
       "\n",
       "\n",
       "  <div class=\"bk-root\" id=\"e5986777-ad9d-4e90-90b6-eab8ead99ee2\" data-root-id=\"1110\"></div>\n"
      ]
     },
     "metadata": {},
     "output_type": "display_data"
    },
    {
     "data": {
      "application/javascript": [
       "(function(root) {\n",
       "  function embed_document(root) {\n",
       "    \n",
       "  var docs_json = {\"d2c523fc-5238-4647-be31-c901ccfb69c3\":{\"roots\":{\"references\":[{\"attributes\":{\"children\":[{\"id\":\"1109\"},{\"id\":\"1107\"}]},\"id\":\"1110\",\"type\":\"Column\"},{\"attributes\":{\"data\":{\"x\":[0,1,2,3,4,5,6,7,8,9,10],\"y\":[10,9,8,7,6,5,4,3,2,1,0]},\"selected\":{\"id\":\"1095\"},\"selection_policy\":{\"id\":\"1096\"}},\"id\":\"1049\",\"type\":\"ColumnDataSource\"},{\"attributes\":{\"formatter\":{\"id\":\"1082\"},\"ticker\":{\"id\":\"1012\"}},\"id\":\"1011\",\"type\":\"LinearAxis\"},{\"attributes\":{\"data_source\":{\"id\":\"1024\"},\"glyph\":{\"id\":\"1025\"},\"hover_glyph\":null,\"muted_glyph\":null,\"nonselection_glyph\":{\"id\":\"1026\"},\"selection_glyph\":null,\"view\":{\"id\":\"1028\"}},\"id\":\"1027\",\"type\":\"GlyphRenderer\"},{\"attributes\":{},\"id\":\"1012\",\"type\":\"BasicTicker\"},{\"attributes\":{},\"id\":\"1032\",\"type\":\"LinearScale\"},{\"attributes\":{\"active_drag\":\"auto\",\"active_inspect\":\"auto\",\"active_multi\":null,\"active_scroll\":\"auto\",\"active_tap\":\"auto\",\"tools\":[{\"id\":\"1070\"},{\"id\":\"1071\"}]},\"id\":\"1072\",\"type\":\"Toolbar\"},{\"attributes\":{},\"id\":\"1037\",\"type\":\"BasicTicker\"},{\"attributes\":{\"axis\":{\"id\":\"1011\"},\"ticker\":null},\"id\":\"1014\",\"type\":\"Grid\"},{\"attributes\":{\"toolbars\":[{\"id\":\"1021\"},{\"id\":\"1046\"},{\"id\":\"1072\"}],\"tools\":[{\"id\":\"1019\"},{\"id\":\"1020\"},{\"id\":\"1044\"},{\"id\":\"1045\"},{\"id\":\"1070\"},{\"id\":\"1071\"}]},\"id\":\"1108\",\"type\":\"ProxyToolbar\"},{\"attributes\":{\"formatter\":{\"id\":\"1084\"},\"ticker\":{\"id\":\"1016\"}},\"id\":\"1015\",\"type\":\"LinearAxis\"},{\"attributes\":{\"axis\":{\"id\":\"1036\"},\"ticker\":null},\"id\":\"1039\",\"type\":\"Grid\"},{\"attributes\":{},\"id\":\"1102\",\"type\":\"BasicTickFormatter\"},{\"attributes\":{},\"id\":\"1016\",\"type\":\"BasicTicker\"},{\"attributes\":{},\"id\":\"1034\",\"type\":\"LinearScale\"},{\"attributes\":{},\"id\":\"1096\",\"type\":\"UnionRenderers\"},{\"attributes\":{\"axis\":{\"id\":\"1015\"},\"dimension\":1,\"ticker\":null},\"id\":\"1018\",\"type\":\"Grid\"},{\"attributes\":{\"formatter\":{\"id\":\"1091\"},\"ticker\":{\"id\":\"1037\"}},\"id\":\"1036\",\"type\":\"LinearAxis\"},{\"attributes\":{\"text\":\"\"},\"id\":\"1090\",\"type\":\"Title\"},{\"attributes\":{\"fill_color\":{\"value\":\"firebrick\"},\"line_color\":{\"value\":\"firebrick\"},\"size\":{\"units\":\"screen\",\"value\":10},\"x\":{\"field\":\"x\"},\"y\":{\"field\":\"y\"}},\"id\":\"1050\",\"type\":\"Triangle\"},{\"attributes\":{},\"id\":\"1044\",\"type\":\"PanTool\"},{\"attributes\":{},\"id\":\"1091\",\"type\":\"BasicTickFormatter\"},{\"attributes\":{},\"id\":\"1084\",\"type\":\"BasicTickFormatter\"},{\"attributes\":{},\"id\":\"1071\",\"type\":\"WheelZoomTool\"},{\"attributes\":{\"formatter\":{\"id\":\"1093\"},\"ticker\":{\"id\":\"1041\"}},\"id\":\"1040\",\"type\":\"LinearAxis\"},{\"attributes\":{},\"id\":\"1041\",\"type\":\"BasicTicker\"},{\"attributes\":{\"axis\":{\"id\":\"1040\"},\"dimension\":1,\"ticker\":null},\"id\":\"1043\",\"type\":\"Grid\"},{\"attributes\":{},\"id\":\"1019\",\"type\":\"PanTool\"},{\"attributes\":{\"fill_color\":{\"value\":\"olive\"},\"line_color\":{\"value\":\"olive\"},\"size\":{\"units\":\"screen\",\"value\":10},\"x\":{\"field\":\"x\"},\"y\":{\"field\":\"y\"}},\"id\":\"1076\",\"type\":\"Square\"},{\"attributes\":{},\"id\":\"1020\",\"type\":\"WheelZoomTool\"},{\"attributes\":{\"fill_alpha\":{\"value\":0.1},\"fill_color\":{\"value\":\"firebrick\"},\"line_alpha\":{\"value\":0.1},\"line_color\":{\"value\":\"firebrick\"},\"size\":{\"units\":\"screen\",\"value\":10},\"x\":{\"field\":\"x\"},\"y\":{\"field\":\"y\"}},\"id\":\"1051\",\"type\":\"Triangle\"},{\"attributes\":{},\"id\":\"1045\",\"type\":\"WheelZoomTool\"},{\"attributes\":{\"text\":\"\"},\"id\":\"1099\",\"type\":\"Title\"},{\"attributes\":{},\"id\":\"1005\",\"type\":\"DataRange1d\"},{\"attributes\":{},\"id\":\"1070\",\"type\":\"PanTool\"},{\"attributes\":{\"data_source\":{\"id\":\"1049\"},\"glyph\":{\"id\":\"1050\"},\"hover_glyph\":null,\"muted_glyph\":null,\"nonselection_glyph\":{\"id\":\"1051\"},\"selection_glyph\":null,\"view\":{\"id\":\"1053\"}},\"id\":\"1052\",\"type\":\"GlyphRenderer\"},{\"attributes\":{},\"id\":\"1100\",\"type\":\"BasicTickFormatter\"},{\"attributes\":{\"source\":{\"id\":\"1075\"}},\"id\":\"1079\",\"type\":\"CDSView\"},{\"attributes\":{},\"id\":\"1060\",\"type\":\"LinearScale\"},{\"attributes\":{\"fill_alpha\":{\"value\":0.1},\"fill_color\":{\"value\":\"olive\"},\"line_alpha\":{\"value\":0.1},\"line_color\":{\"value\":\"olive\"},\"size\":{\"units\":\"screen\",\"value\":10},\"x\":{\"field\":\"x\"},\"y\":{\"field\":\"y\"}},\"id\":\"1077\",\"type\":\"Square\"},{\"attributes\":{},\"id\":\"1058\",\"type\":\"LinearScale\"},{\"attributes\":{\"formatter\":{\"id\":\"1102\"},\"ticker\":{\"id\":\"1067\"}},\"id\":\"1066\",\"type\":\"LinearAxis\"},{\"attributes\":{},\"id\":\"1063\",\"type\":\"BasicTicker\"},{\"attributes\":{\"data_source\":{\"id\":\"1075\"},\"glyph\":{\"id\":\"1076\"},\"hover_glyph\":null,\"muted_glyph\":null,\"nonselection_glyph\":{\"id\":\"1077\"},\"selection_glyph\":null,\"view\":{\"id\":\"1079\"}},\"id\":\"1078\",\"type\":\"GlyphRenderer\"},{\"attributes\":{\"formatter\":{\"id\":\"1100\"},\"ticker\":{\"id\":\"1063\"}},\"id\":\"1062\",\"type\":\"LinearAxis\"},{\"attributes\":{},\"id\":\"1067\",\"type\":\"BasicTicker\"},{\"attributes\":{\"axis\":{\"id\":\"1066\"},\"dimension\":1,\"ticker\":null},\"id\":\"1069\",\"type\":\"Grid\"},{\"attributes\":{\"axis\":{\"id\":\"1062\"},\"ticker\":null},\"id\":\"1065\",\"type\":\"Grid\"},{\"attributes\":{},\"id\":\"1093\",\"type\":\"BasicTickFormatter\"},{\"attributes\":{\"data\":{\"x\":[0,1,2,3,4,5,6,7,8,9,10],\"y\":[5,4,3,2,1,0,1,2,3,4,5]},\"selected\":{\"id\":\"1104\"},\"selection_policy\":{\"id\":\"1105\"}},\"id\":\"1075\",\"type\":\"ColumnDataSource\"},{\"attributes\":{\"source\":{\"id\":\"1049\"}},\"id\":\"1053\",\"type\":\"CDSView\"},{\"attributes\":{\"toolbar\":{\"id\":\"1108\"},\"toolbar_location\":\"above\"},\"id\":\"1109\",\"type\":\"ToolbarBox\"},{\"attributes\":{},\"id\":\"1056\",\"type\":\"DataRange1d\"},{\"attributes\":{},\"id\":\"1086\",\"type\":\"Selection\"},{\"attributes\":{},\"id\":\"1087\",\"type\":\"UnionRenderers\"},{\"attributes\":{\"data\":{\"x\":[0,1,2,3,4,5,6,7,8,9,10],\"y\":[0,1,2,3,4,5,6,7,8,9,10]},\"selected\":{\"id\":\"1086\"},\"selection_policy\":{\"id\":\"1087\"}},\"id\":\"1024\",\"type\":\"ColumnDataSource\"},{\"attributes\":{\"active_drag\":\"auto\",\"active_inspect\":\"auto\",\"active_multi\":null,\"active_scroll\":\"auto\",\"active_tap\":\"auto\",\"tools\":[{\"id\":\"1019\"},{\"id\":\"1020\"}]},\"id\":\"1021\",\"type\":\"Toolbar\"},{\"attributes\":{\"below\":[{\"id\":\"1011\"}],\"center\":[{\"id\":\"1014\"},{\"id\":\"1018\"}],\"left\":[{\"id\":\"1015\"}],\"plot_height\":250,\"plot_width\":250,\"renderers\":[{\"id\":\"1027\"}],\"title\":{\"id\":\"1081\"},\"toolbar\":{\"id\":\"1021\"},\"toolbar_location\":null,\"x_range\":{\"id\":\"1003\"},\"x_scale\":{\"id\":\"1007\"},\"y_range\":{\"id\":\"1005\"},\"y_scale\":{\"id\":\"1009\"}},\"id\":\"1002\",\"subtype\":\"Figure\",\"type\":\"Plot\"},{\"attributes\":{\"children\":[[{\"id\":\"1002\"},0,0],[{\"id\":\"1029\"},0,1],[{\"id\":\"1054\"},0,2]]},\"id\":\"1107\",\"type\":\"GridBox\"},{\"attributes\":{\"active_drag\":\"auto\",\"active_inspect\":\"auto\",\"active_multi\":null,\"active_scroll\":\"auto\",\"active_tap\":\"auto\",\"tools\":[{\"id\":\"1044\"},{\"id\":\"1045\"}]},\"id\":\"1046\",\"type\":\"Toolbar\"},{\"attributes\":{\"text\":\"\"},\"id\":\"1081\",\"type\":\"Title\"},{\"attributes\":{},\"id\":\"1007\",\"type\":\"LinearScale\"},{\"attributes\":{},\"id\":\"1104\",\"type\":\"Selection\"},{\"attributes\":{},\"id\":\"1003\",\"type\":\"DataRange1d\"},{\"attributes\":{},\"id\":\"1105\",\"type\":\"UnionRenderers\"},{\"attributes\":{},\"id\":\"1082\",\"type\":\"BasicTickFormatter\"},{\"attributes\":{\"fill_color\":{\"value\":\"navy\"},\"line_color\":{\"value\":\"navy\"},\"size\":{\"units\":\"screen\",\"value\":10},\"x\":{\"field\":\"x\"},\"y\":{\"field\":\"y\"}},\"id\":\"1025\",\"type\":\"Circle\"},{\"attributes\":{\"source\":{\"id\":\"1024\"}},\"id\":\"1028\",\"type\":\"CDSView\"},{\"attributes\":{\"below\":[{\"id\":\"1036\"}],\"center\":[{\"id\":\"1039\"},{\"id\":\"1043\"}],\"left\":[{\"id\":\"1040\"}],\"plot_height\":250,\"plot_width\":250,\"renderers\":[{\"id\":\"1052\"}],\"title\":{\"id\":\"1090\"},\"toolbar\":{\"id\":\"1046\"},\"toolbar_location\":null,\"x_range\":{\"id\":\"1003\"},\"x_scale\":{\"id\":\"1032\"},\"y_range\":{\"id\":\"1005\"},\"y_scale\":{\"id\":\"1034\"}},\"id\":\"1029\",\"subtype\":\"Figure\",\"type\":\"Plot\"},{\"attributes\":{\"below\":[{\"id\":\"1062\"}],\"center\":[{\"id\":\"1065\"},{\"id\":\"1069\"}],\"left\":[{\"id\":\"1066\"}],\"plot_height\":250,\"plot_width\":250,\"renderers\":[{\"id\":\"1078\"}],\"title\":{\"id\":\"1099\"},\"toolbar\":{\"id\":\"1072\"},\"toolbar_location\":null,\"x_range\":{\"id\":\"1003\"},\"x_scale\":{\"id\":\"1058\"},\"y_range\":{\"id\":\"1056\"},\"y_scale\":{\"id\":\"1060\"}},\"id\":\"1054\",\"subtype\":\"Figure\",\"type\":\"Plot\"},{\"attributes\":{},\"id\":\"1095\",\"type\":\"Selection\"},{\"attributes\":{\"fill_alpha\":{\"value\":0.1},\"fill_color\":{\"value\":\"navy\"},\"line_alpha\":{\"value\":0.1},\"line_color\":{\"value\":\"navy\"},\"size\":{\"units\":\"screen\",\"value\":10},\"x\":{\"field\":\"x\"},\"y\":{\"field\":\"y\"}},\"id\":\"1026\",\"type\":\"Circle\"},{\"attributes\":{},\"id\":\"1009\",\"type\":\"LinearScale\"}],\"root_ids\":[\"1110\"]},\"title\":\"Bokeh Application\",\"version\":\"2.1.1\"}};\n",
       "  var render_items = [{\"docid\":\"d2c523fc-5238-4647-be31-c901ccfb69c3\",\"root_ids\":[\"1110\"],\"roots\":{\"1110\":\"e5986777-ad9d-4e90-90b6-eab8ead99ee2\"}}];\n",
       "  root.Bokeh.embed.embed_items_notebook(docs_json, render_items);\n",
       "\n",
       "  }\n",
       "  if (root.Bokeh !== undefined) {\n",
       "    embed_document(root);\n",
       "  } else {\n",
       "    var attempts = 0;\n",
       "    var timer = setInterval(function(root) {\n",
       "      if (root.Bokeh !== undefined) {\n",
       "        clearInterval(timer);\n",
       "        embed_document(root);\n",
       "      } else {\n",
       "        attempts++;\n",
       "        if (attempts > 100) {\n",
       "          clearInterval(timer);\n",
       "          console.log(\"Bokeh: ERROR: Unable to run BokehJS code because BokehJS library is missing\");\n",
       "        }\n",
       "      }\n",
       "    }, 10, root)\n",
       "  }\n",
       "})(window);"
      ],
      "application/vnd.bokehjs_exec.v0+json": ""
     },
     "metadata": {
      "application/vnd.bokehjs_exec.v0+json": {
       "id": "1110"
      }
     },
     "output_type": "display_data"
    }
   ],
   "source": [
    "from bokeh.layouts import gridplot\n",
    "\n",
    "x = list(range(11))\n",
    "y0, y1, y2 = x, [10-i for i in x], [abs(i-5) for i in x]\n",
    "\n",
    "plot_options = dict(width=250, plot_height=250, tools='pan,wheel_zoom')\n",
    "\n",
    "# create a new plot\n",
    "s1 = figure(**plot_options)\n",
    "s1.circle(x, y0, size=10, color=\"navy\")\n",
    "\n",
    "# create a new plot and share both ranges\n",
    "s2 = figure(x_range=s1.x_range, y_range=s1.y_range, **plot_options)\n",
    "s2.triangle(x, y1, size=10, color=\"firebrick\")\n",
    "\n",
    "# create a new plot and share only one range\n",
    "s3 = figure(x_range=s1.x_range, **plot_options)\n",
    "s3.square(x, y2, size=10, color=\"olive\")\n",
    "\n",
    "p = gridplot([[s1, s2, s3]])\n",
    "\n",
    "# show the results\n",
    "show(p)"
   ]
  },
  {
   "cell_type": "code",
   "execution_count": 3,
   "metadata": {},
   "outputs": [],
   "source": [
    "# EXERCISE: create two plots in a gridplot, and link their ranges\n"
   ]
  },
  {
   "cell_type": "markdown",
   "metadata": {},
   "source": [
    "## Linked brushing\n",
    "\n",
    "Linking selections is accomplished in a similar way, by sharing data sources between plots. Note that normally with ``bokeh.plotting`` and ``bokeh.charts`` creating a default data source for simple plots is handled automatically. However to share a data source, we must create them by hand and pass them explicitly. This is illustrated in the example below:"
   ]
  },
  {
   "cell_type": "code",
   "execution_count": 4,
   "metadata": {},
   "outputs": [
    {
     "data": {
      "text/html": [
       "\n",
       "\n",
       "\n",
       "\n",
       "\n",
       "\n",
       "  <div class=\"bk-root\" id=\"0102dae5-7a6e-4936-9550-6863c5c48b94\" data-root-id=\"1367\"></div>\n"
      ]
     },
     "metadata": {},
     "output_type": "display_data"
    },
    {
     "data": {
      "application/javascript": [
       "(function(root) {\n",
       "  function embed_document(root) {\n",
       "    \n",
       "  var docs_json = {\"29ef05c1-426e-4606-9e17-bc400eaa4c83\":{\"roots\":{\"references\":[{\"attributes\":{\"children\":[{\"id\":\"1366\"},{\"id\":\"1364\"}]},\"id\":\"1367\",\"type\":\"Column\"},{\"attributes\":{},\"id\":\"1312\",\"type\":\"DataRange1d\"},{\"attributes\":{\"text\":\"\"},\"id\":\"1354\",\"type\":\"Title\"},{\"attributes\":{\"toolbars\":[{\"id\":\"1302\"},{\"id\":\"1333\"}],\"tools\":[{\"id\":\"1297\"},{\"id\":\"1298\"},{\"id\":\"1299\"},{\"id\":\"1328\"},{\"id\":\"1329\"},{\"id\":\"1330\"}]},\"id\":\"1365\",\"type\":\"ProxyToolbar\"},{\"attributes\":{},\"id\":\"1285\",\"type\":\"LinearScale\"},{\"attributes\":{},\"id\":\"1355\",\"type\":\"BasicTickFormatter\"},{\"attributes\":{},\"id\":\"1316\",\"type\":\"LinearScale\"},{\"attributes\":{\"active_drag\":\"auto\",\"active_inspect\":\"auto\",\"active_multi\":null,\"active_scroll\":\"auto\",\"active_tap\":\"auto\",\"tools\":[{\"id\":\"1328\"},{\"id\":\"1329\"},{\"id\":\"1330\"}]},\"id\":\"1333\",\"type\":\"Toolbar\"},{\"attributes\":{\"formatter\":{\"id\":\"1355\"},\"ticker\":{\"id\":\"1321\"}},\"id\":\"1320\",\"type\":\"LinearAxis\"},{\"attributes\":{},\"id\":\"1287\",\"type\":\"LinearScale\"},{\"attributes\":{},\"id\":\"1314\",\"type\":\"DataRange1d\"},{\"attributes\":{\"overlay\":{\"id\":\"1300\"}},\"id\":\"1297\",\"type\":\"BoxSelectTool\"},{\"attributes\":{},\"id\":\"1318\",\"type\":\"LinearScale\"},{\"attributes\":{\"toolbar\":{\"id\":\"1365\"},\"toolbar_location\":\"above\"},\"id\":\"1366\",\"type\":\"ToolbarBox\"},{\"attributes\":{\"overlay\":{\"id\":\"1331\"}},\"id\":\"1328\",\"type\":\"BoxSelectTool\"},{\"attributes\":{},\"id\":\"1294\",\"type\":\"BasicTicker\"},{\"attributes\":{},\"id\":\"1321\",\"type\":\"BasicTicker\"},{\"attributes\":{},\"id\":\"1290\",\"type\":\"BasicTicker\"},{\"attributes\":{\"axis\":{\"id\":\"1320\"},\"ticker\":null},\"id\":\"1323\",\"type\":\"Grid\"},{\"attributes\":{\"overlay\":{\"id\":\"1301\"}},\"id\":\"1298\",\"type\":\"LassoSelectTool\"},{\"attributes\":{\"axis\":{\"id\":\"1293\"},\"dimension\":1,\"ticker\":null},\"id\":\"1296\",\"type\":\"Grid\"},{\"attributes\":{\"data_source\":{\"id\":\"1279\"},\"glyph\":{\"id\":\"1338\"},\"hover_glyph\":null,\"muted_glyph\":null,\"nonselection_glyph\":{\"id\":\"1339\"},\"selection_glyph\":null,\"view\":{\"id\":\"1341\"}},\"id\":\"1340\",\"type\":\"GlyphRenderer\"},{\"attributes\":{\"formatter\":{\"id\":\"1357\"},\"ticker\":{\"id\":\"1325\"}},\"id\":\"1324\",\"type\":\"LinearAxis\"},{\"attributes\":{},\"id\":\"1325\",\"type\":\"BasicTicker\"},{\"attributes\":{\"formatter\":{\"id\":\"1346\"},\"ticker\":{\"id\":\"1294\"}},\"id\":\"1293\",\"type\":\"LinearAxis\"},{\"attributes\":{\"axis\":{\"id\":\"1324\"},\"dimension\":1,\"ticker\":null},\"id\":\"1327\",\"type\":\"Grid\"},{\"attributes\":{\"fill_alpha\":{\"value\":0.1},\"fill_color\":{\"value\":\"#1f77b4\"},\"line_alpha\":{\"value\":0.1},\"line_color\":{\"value\":\"#1f77b4\"},\"x\":{\"field\":\"x\"},\"y\":{\"field\":\"y1\"}},\"id\":\"1339\",\"type\":\"Circle\"},{\"attributes\":{},\"id\":\"1330\",\"type\":\"HelpTool\"},{\"attributes\":{\"fill_alpha\":{\"value\":0.1},\"fill_color\":{\"value\":\"#1f77b4\"},\"line_alpha\":{\"value\":0.1},\"line_color\":{\"value\":\"#1f77b4\"},\"x\":{\"field\":\"x\"},\"y\":{\"field\":\"y0\"}},\"id\":\"1308\",\"type\":\"Circle\"},{\"attributes\":{\"source\":{\"id\":\"1279\"}},\"id\":\"1341\",\"type\":\"CDSView\"},{\"attributes\":{\"children\":[[{\"id\":\"1280\"},0,0],[{\"id\":\"1311\"},0,1]]},\"id\":\"1364\",\"type\":\"GridBox\"},{\"attributes\":{\"formatter\":{\"id\":\"1344\"},\"ticker\":{\"id\":\"1290\"}},\"id\":\"1289\",\"type\":\"LinearAxis\"},{\"attributes\":{\"data_source\":{\"id\":\"1279\"},\"glyph\":{\"id\":\"1307\"},\"hover_glyph\":null,\"muted_glyph\":null,\"nonselection_glyph\":{\"id\":\"1308\"},\"selection_glyph\":null,\"view\":{\"id\":\"1310\"}},\"id\":\"1309\",\"type\":\"GlyphRenderer\"},{\"attributes\":{\"overlay\":{\"id\":\"1332\"}},\"id\":\"1329\",\"type\":\"LassoSelectTool\"},{\"attributes\":{},\"id\":\"1350\",\"type\":\"Selection\"},{\"attributes\":{\"below\":[{\"id\":\"1320\"}],\"center\":[{\"id\":\"1323\"},{\"id\":\"1327\"}],\"left\":[{\"id\":\"1324\"}],\"plot_height\":300,\"plot_width\":300,\"renderers\":[{\"id\":\"1340\"}],\"title\":{\"id\":\"1354\"},\"toolbar\":{\"id\":\"1333\"},\"toolbar_location\":null,\"x_range\":{\"id\":\"1312\"},\"x_scale\":{\"id\":\"1316\"},\"y_range\":{\"id\":\"1314\"},\"y_scale\":{\"id\":\"1318\"}},\"id\":\"1311\",\"subtype\":\"Figure\",\"type\":\"Plot\"},{\"attributes\":{},\"id\":\"1357\",\"type\":\"BasicTickFormatter\"},{\"attributes\":{},\"id\":\"1351\",\"type\":\"UnionRenderers\"},{\"attributes\":{\"axis\":{\"id\":\"1289\"},\"ticker\":null},\"id\":\"1292\",\"type\":\"Grid\"},{\"attributes\":{},\"id\":\"1283\",\"type\":\"DataRange1d\"},{\"attributes\":{\"text\":\"\"},\"id\":\"1343\",\"type\":\"Title\"},{\"attributes\":{\"fill_alpha\":0.5,\"fill_color\":\"lightgrey\",\"level\":\"overlay\",\"line_alpha\":1.0,\"line_color\":\"black\",\"line_dash\":[4,4],\"line_width\":2,\"xs_units\":\"screen\",\"ys_units\":\"screen\"},\"id\":\"1301\",\"type\":\"PolyAnnotation\"},{\"attributes\":{\"data\":{\"x\":[-20,-19,-18,-17,-16,-15,-14,-13,-12,-11,-10,-9,-8,-7,-6,-5,-4,-3,-2,-1,0,1,2,3,4,5,6,7,8,9,10,11,12,13,14,15,16,17,18,19,20],\"y0\":[20,19,18,17,16,15,14,13,12,11,10,9,8,7,6,5,4,3,2,1,0,1,2,3,4,5,6,7,8,9,10,11,12,13,14,15,16,17,18,19,20],\"y1\":[400,361,324,289,256,225,196,169,144,121,100,81,64,49,36,25,16,9,4,1,0,1,4,9,16,25,36,49,64,81,100,121,144,169,196,225,256,289,324,361,400]},\"selected\":{\"id\":\"1350\"},\"selection_policy\":{\"id\":\"1351\"}},\"id\":\"1279\",\"type\":\"ColumnDataSource\"},{\"attributes\":{},\"id\":\"1344\",\"type\":\"BasicTickFormatter\"},{\"attributes\":{\"fill_color\":{\"value\":\"#1f77b4\"},\"line_color\":{\"value\":\"#1f77b4\"},\"x\":{\"field\":\"x\"},\"y\":{\"field\":\"y0\"}},\"id\":\"1307\",\"type\":\"Circle\"},{\"attributes\":{\"fill_color\":{\"value\":\"#1f77b4\"},\"line_color\":{\"value\":\"#1f77b4\"},\"x\":{\"field\":\"x\"},\"y\":{\"field\":\"y1\"}},\"id\":\"1338\",\"type\":\"Circle\"},{\"attributes\":{},\"id\":\"1281\",\"type\":\"DataRange1d\"},{\"attributes\":{},\"id\":\"1299\",\"type\":\"HelpTool\"},{\"attributes\":{\"bottom_units\":\"screen\",\"fill_alpha\":0.5,\"fill_color\":\"lightgrey\",\"left_units\":\"screen\",\"level\":\"overlay\",\"line_alpha\":1.0,\"line_color\":\"black\",\"line_dash\":[4,4],\"line_width\":2,\"right_units\":\"screen\",\"top_units\":\"screen\"},\"id\":\"1331\",\"type\":\"BoxAnnotation\"},{\"attributes\":{\"source\":{\"id\":\"1279\"}},\"id\":\"1310\",\"type\":\"CDSView\"},{\"attributes\":{\"bottom_units\":\"screen\",\"fill_alpha\":0.5,\"fill_color\":\"lightgrey\",\"left_units\":\"screen\",\"level\":\"overlay\",\"line_alpha\":1.0,\"line_color\":\"black\",\"line_dash\":[4,4],\"line_width\":2,\"right_units\":\"screen\",\"top_units\":\"screen\"},\"id\":\"1300\",\"type\":\"BoxAnnotation\"},{\"attributes\":{},\"id\":\"1346\",\"type\":\"BasicTickFormatter\"},{\"attributes\":{\"fill_alpha\":0.5,\"fill_color\":\"lightgrey\",\"level\":\"overlay\",\"line_alpha\":1.0,\"line_color\":\"black\",\"line_dash\":[4,4],\"line_width\":2,\"xs_units\":\"screen\",\"ys_units\":\"screen\"},\"id\":\"1332\",\"type\":\"PolyAnnotation\"},{\"attributes\":{\"active_drag\":\"auto\",\"active_inspect\":\"auto\",\"active_multi\":null,\"active_scroll\":\"auto\",\"active_tap\":\"auto\",\"tools\":[{\"id\":\"1297\"},{\"id\":\"1298\"},{\"id\":\"1299\"}]},\"id\":\"1302\",\"type\":\"Toolbar\"},{\"attributes\":{\"below\":[{\"id\":\"1289\"}],\"center\":[{\"id\":\"1292\"},{\"id\":\"1296\"}],\"left\":[{\"id\":\"1293\"}],\"plot_height\":300,\"plot_width\":300,\"renderers\":[{\"id\":\"1309\"}],\"title\":{\"id\":\"1343\"},\"toolbar\":{\"id\":\"1302\"},\"toolbar_location\":null,\"x_range\":{\"id\":\"1281\"},\"x_scale\":{\"id\":\"1285\"},\"y_range\":{\"id\":\"1283\"},\"y_scale\":{\"id\":\"1287\"}},\"id\":\"1280\",\"subtype\":\"Figure\",\"type\":\"Plot\"}],\"root_ids\":[\"1367\"]},\"title\":\"Bokeh Application\",\"version\":\"2.1.1\"}};\n",
       "  var render_items = [{\"docid\":\"29ef05c1-426e-4606-9e17-bc400eaa4c83\",\"root_ids\":[\"1367\"],\"roots\":{\"1367\":\"0102dae5-7a6e-4936-9550-6863c5c48b94\"}}];\n",
       "  root.Bokeh.embed.embed_items_notebook(docs_json, render_items);\n",
       "\n",
       "  }\n",
       "  if (root.Bokeh !== undefined) {\n",
       "    embed_document(root);\n",
       "  } else {\n",
       "    var attempts = 0;\n",
       "    var timer = setInterval(function(root) {\n",
       "      if (root.Bokeh !== undefined) {\n",
       "        clearInterval(timer);\n",
       "        embed_document(root);\n",
       "      } else {\n",
       "        attempts++;\n",
       "        if (attempts > 100) {\n",
       "          clearInterval(timer);\n",
       "          console.log(\"Bokeh: ERROR: Unable to run BokehJS code because BokehJS library is missing\");\n",
       "        }\n",
       "      }\n",
       "    }, 10, root)\n",
       "  }\n",
       "})(window);"
      ],
      "application/vnd.bokehjs_exec.v0+json": ""
     },
     "metadata": {
      "application/vnd.bokehjs_exec.v0+json": {
       "id": "1367"
      }
     },
     "output_type": "display_data"
    }
   ],
   "source": [
    "from bokeh.models import ColumnDataSource\n",
    "\n",
    "x = list(range(-20, 21))\n",
    "y0, y1 = [abs(xx) for xx in x], [xx**2 for xx in x]\n",
    "\n",
    "# create a column data source for the plots to share\n",
    "source = ColumnDataSource(data=dict(x=x, y0=y0, y1=y1))\n",
    "\n",
    "TOOLS = \"box_select,lasso_select,help\"\n",
    "\n",
    "# create a new plot and add a renderer\n",
    "left = figure(tools=TOOLS, width=300, height=300)\n",
    "left.circle('x', 'y0', source=source)\n",
    "\n",
    "# create another new plot and add a renderer\n",
    "right = figure(tools=TOOLS, width=300, height=300)\n",
    "right.circle('x', 'y1', source=source)\n",
    "\n",
    "p = gridplot([[left, right]])\n",
    "\n",
    "show(p)"
   ]
  },
  {
   "cell_type": "code",
   "execution_count": 5,
   "metadata": {},
   "outputs": [],
   "source": [
    "# EXERCISE: create two plots in a gridplot, and link their data sources\n",
    "\n"
   ]
  },
  {
   "cell_type": "markdown",
   "metadata": {},
   "source": [
    "# Hover Tools\n",
    "\n",
    "Bokeh has a Hover Tool that allows additional information to be displayed in a popup whenever the user hovers over a specific glyph. Basic hover tool configuration amounts to providing a list of ``(name, format)`` tuples. The full details can be found in the User's Guide [here](https://bokeh.pydata.org/en/latest/docs/user_guide/tools.html#hovertool).\n",
    "\n",
    "The example below shows some basic usage of the Hover tool with a circle glyph, using hover information defined in utils.py:"
   ]
  },
  {
   "cell_type": "code",
   "execution_count": 6,
   "metadata": {},
   "outputs": [
    {
     "data": {
      "text/html": [
       "\n",
       "\n",
       "\n",
       "\n",
       "\n",
       "\n",
       "  <div class=\"bk-root\" id=\"ba8e44ef-6751-4b20-987b-f313984ff9f9\" data-root-id=\"1522\"></div>\n"
      ]
     },
     "metadata": {},
     "output_type": "display_data"
    },
    {
     "data": {
      "application/javascript": [
       "(function(root) {\n",
       "  function embed_document(root) {\n",
       "    \n",
       "  var docs_json = {\"36c444b8-3965-4c34-90cb-51c921f197ac\":{\"roots\":{\"references\":[{\"attributes\":{\"below\":[{\"id\":\"1533\"}],\"center\":[{\"id\":\"1536\"},{\"id\":\"1540\"}],\"left\":[{\"id\":\"1537\"}],\"plot_height\":300,\"plot_width\":300,\"renderers\":[{\"id\":\"1546\"}],\"title\":{\"id\":\"1523\"},\"toolbar\":{\"id\":\"1541\"},\"x_range\":{\"id\":\"1525\"},\"x_scale\":{\"id\":\"1529\"},\"y_range\":{\"id\":\"1527\"},\"y_scale\":{\"id\":\"1531\"}},\"id\":\"1522\",\"subtype\":\"Figure\",\"type\":\"Plot\"},{\"attributes\":{\"axis\":{\"id\":\"1537\"},\"dimension\":1,\"ticker\":null},\"id\":\"1540\",\"type\":\"Grid\"},{\"attributes\":{},\"id\":\"1593\",\"type\":\"BasicTickFormatter\"},{\"attributes\":{},\"id\":\"1596\",\"type\":\"UnionRenderers\"},{\"attributes\":{\"data_source\":{\"id\":\"1520\"},\"glyph\":{\"id\":\"1544\"},\"hover_glyph\":null,\"muted_glyph\":null,\"nonselection_glyph\":{\"id\":\"1545\"},\"selection_glyph\":null,\"view\":{\"id\":\"1547\"}},\"id\":\"1546\",\"type\":\"GlyphRenderer\"},{\"attributes\":{\"active_drag\":\"auto\",\"active_inspect\":\"auto\",\"active_multi\":null,\"active_scroll\":\"auto\",\"active_tap\":\"auto\",\"tools\":[{\"id\":\"1521\"}]},\"id\":\"1541\",\"type\":\"Toolbar\"},{\"attributes\":{\"fill_color\":{\"value\":\"#1f77b4\"},\"line_color\":{\"value\":\"#1f77b4\"},\"size\":{\"units\":\"screen\",\"value\":20},\"x\":{\"field\":\"x\"},\"y\":{\"field\":\"y\"}},\"id\":\"1544\",\"type\":\"Circle\"},{\"attributes\":{\"callback\":null,\"tooltips\":[[\"index\",\"$index\"],[\"(x,y)\",\"($x, $y)\"],[\"desc\",\"@desc\"]]},\"id\":\"1521\",\"type\":\"HoverTool\"},{\"attributes\":{\"source\":{\"id\":\"1520\"}},\"id\":\"1547\",\"type\":\"CDSView\"},{\"attributes\":{\"data\":{\"desc\":[\"A\",\"b\",\"C\",\"d\",\"E\"],\"x\":[1,2,3,4,5],\"y\":[2,5,8,2,7]},\"selected\":{\"id\":\"1595\"},\"selection_policy\":{\"id\":\"1596\"}},\"id\":\"1520\",\"type\":\"ColumnDataSource\"},{\"attributes\":{\"fill_alpha\":{\"value\":0.1},\"fill_color\":{\"value\":\"#1f77b4\"},\"line_alpha\":{\"value\":0.1},\"line_color\":{\"value\":\"#1f77b4\"},\"size\":{\"units\":\"screen\",\"value\":20},\"x\":{\"field\":\"x\"},\"y\":{\"field\":\"y\"}},\"id\":\"1545\",\"type\":\"Circle\"},{\"attributes\":{\"text\":\"Mouse over the dots\"},\"id\":\"1523\",\"type\":\"Title\"},{\"attributes\":{},\"id\":\"1527\",\"type\":\"DataRange1d\"},{\"attributes\":{},\"id\":\"1525\",\"type\":\"DataRange1d\"},{\"attributes\":{\"formatter\":{\"id\":\"1591\"},\"ticker\":{\"id\":\"1534\"}},\"id\":\"1533\",\"type\":\"LinearAxis\"},{\"attributes\":{},\"id\":\"1595\",\"type\":\"Selection\"},{\"attributes\":{},\"id\":\"1534\",\"type\":\"BasicTicker\"},{\"attributes\":{},\"id\":\"1531\",\"type\":\"LinearScale\"},{\"attributes\":{},\"id\":\"1591\",\"type\":\"BasicTickFormatter\"},{\"attributes\":{},\"id\":\"1529\",\"type\":\"LinearScale\"},{\"attributes\":{\"axis\":{\"id\":\"1533\"},\"ticker\":null},\"id\":\"1536\",\"type\":\"Grid\"},{\"attributes\":{\"formatter\":{\"id\":\"1593\"},\"ticker\":{\"id\":\"1538\"}},\"id\":\"1537\",\"type\":\"LinearAxis\"},{\"attributes\":{},\"id\":\"1538\",\"type\":\"BasicTicker\"}],\"root_ids\":[\"1522\"]},\"title\":\"Bokeh Application\",\"version\":\"2.1.1\"}};\n",
       "  var render_items = [{\"docid\":\"36c444b8-3965-4c34-90cb-51c921f197ac\",\"root_ids\":[\"1522\"],\"roots\":{\"1522\":\"ba8e44ef-6751-4b20-987b-f313984ff9f9\"}}];\n",
       "  root.Bokeh.embed.embed_items_notebook(docs_json, render_items);\n",
       "\n",
       "  }\n",
       "  if (root.Bokeh !== undefined) {\n",
       "    embed_document(root);\n",
       "  } else {\n",
       "    var attempts = 0;\n",
       "    var timer = setInterval(function(root) {\n",
       "      if (root.Bokeh !== undefined) {\n",
       "        clearInterval(timer);\n",
       "        embed_document(root);\n",
       "      } else {\n",
       "        attempts++;\n",
       "        if (attempts > 100) {\n",
       "          clearInterval(timer);\n",
       "          console.log(\"Bokeh: ERROR: Unable to run BokehJS code because BokehJS library is missing\");\n",
       "        }\n",
       "      }\n",
       "    }, 10, root)\n",
       "  }\n",
       "})(window);"
      ],
      "application/vnd.bokehjs_exec.v0+json": ""
     },
     "metadata": {
      "application/vnd.bokehjs_exec.v0+json": {
       "id": "1522"
      }
     },
     "output_type": "display_data"
    }
   ],
   "source": [
    "from bokeh.models import HoverTool\n",
    "\n",
    "source = ColumnDataSource(\n",
    "        data=dict(\n",
    "            x=[1, 2, 3, 4, 5],\n",
    "            y=[2, 5, 8, 2, 7],\n",
    "            desc=['A', 'b', 'C', 'd', 'E'],\n",
    "        )\n",
    "    )\n",
    "\n",
    "hover = HoverTool(\n",
    "        tooltips=[\n",
    "            (\"index\", \"$index\"),\n",
    "            (\"(x,y)\", \"($x, $y)\"),\n",
    "            (\"desc\", \"@desc\"),\n",
    "        ]\n",
    "    )\n",
    "\n",
    "p = figure(plot_width=300, plot_height=300, tools=[hover], title=\"Mouse over the dots\")\n",
    "\n",
    "p.circle('x', 'y', size=20, source=source)\n",
    "\n",
    "show(p)"
   ]
  },
  {
   "cell_type": "markdown",
   "metadata": {},
   "source": [
    "# Widgets"
   ]
  },
  {
   "cell_type": "markdown",
   "metadata": {},
   "source": [
    "Bokeh supports direct integration with a small basic widget set. These can be used in conjunction with a Bokeh Server, or with ``CustomJS`` models to add more interactive capability to your documents. You can see a complete list, with example code in the [Adding Widgets](https://bokeh.pydata.org/en/latest/docs/user_guide/interaction.html#adding-widgets) section of the User's Guide. \n",
    "\n",
    "\n",
    "\n",
    "*NOTE: In this Tutorial chapter, we will focus on using widgets with JavaScript callbacks. The Tutorial chapter on Bokeh server applications covers using Bokeh widgets with real Python callbacks*\n",
    "\n",
    "\n",
    "\n",
    "\n",
    "To use the widgets, include them in a layout like you would a plot object:"
   ]
  },
  {
   "cell_type": "code",
   "execution_count": 7,
   "metadata": {},
   "outputs": [
    {
     "data": {
      "text/html": [
       "\n",
       "\n",
       "\n",
       "\n",
       "\n",
       "\n",
       "  <div class=\"bk-root\" id=\"3d290402-5483-43ec-8fdb-fda20b4c24c4\" data-root-id=\"1639\"></div>\n"
      ]
     },
     "metadata": {},
     "output_type": "display_data"
    },
    {
     "data": {
      "application/javascript": [
       "(function(root) {\n",
       "  function embed_document(root) {\n",
       "    \n",
       "  var docs_json = {\"ff404581-f19d-40d4-8372-e49e70c23401\":{\"roots\":{\"references\":[{\"attributes\":{\"end\":10,\"format\":\"0[.]00\",\"start\":0,\"step\":0.1,\"title\":\"foo\",\"value\":1},\"id\":\"1639\",\"type\":\"Slider\"}],\"root_ids\":[\"1639\"]},\"title\":\"Bokeh Application\",\"version\":\"2.1.1\"}};\n",
       "  var render_items = [{\"docid\":\"ff404581-f19d-40d4-8372-e49e70c23401\",\"root_ids\":[\"1639\"],\"roots\":{\"1639\":\"3d290402-5483-43ec-8fdb-fda20b4c24c4\"}}];\n",
       "  root.Bokeh.embed.embed_items_notebook(docs_json, render_items);\n",
       "\n",
       "  }\n",
       "  if (root.Bokeh !== undefined) {\n",
       "    embed_document(root);\n",
       "  } else {\n",
       "    var attempts = 0;\n",
       "    var timer = setInterval(function(root) {\n",
       "      if (root.Bokeh !== undefined) {\n",
       "        clearInterval(timer);\n",
       "        embed_document(root);\n",
       "      } else {\n",
       "        attempts++;\n",
       "        if (attempts > 100) {\n",
       "          clearInterval(timer);\n",
       "          console.log(\"Bokeh: ERROR: Unable to run BokehJS code because BokehJS library is missing\");\n",
       "        }\n",
       "      }\n",
       "    }, 10, root)\n",
       "  }\n",
       "})(window);"
      ],
      "application/vnd.bokehjs_exec.v0+json": ""
     },
     "metadata": {
      "application/vnd.bokehjs_exec.v0+json": {
       "id": "1639"
      }
     },
     "output_type": "display_data"
    }
   ],
   "source": [
    "from bokeh.models.widgets import Slider\n",
    "\n",
    "\n",
    "slider = Slider(start=0, end=10, value=1, step=.1, title=\"foo\")\n",
    "\n",
    "show(slider)"
   ]
  },
  {
   "cell_type": "code",
   "execution_count": 8,
   "metadata": {},
   "outputs": [],
   "source": [
    "# EXERCISE: create and show a Select widget \n"
   ]
  },
  {
   "cell_type": "markdown",
   "metadata": {},
   "source": [
    "# CustomJS Callbacks\n",
    "\n",
    "In order for a widget to be useful, it needs to be able to perform some action. Using the Bokeh server, it is possible to have widgets trigger real Python code. That possibility will be explored in the Bokeh server chapter of the turorial. Here, we look at how widgets can be configured with `CustomJS` callbacks that execute snippets of JavaScript code. "
   ]
  },
  {
   "cell_type": "code",
   "execution_count": 9,
   "metadata": {},
   "outputs": [
    {
     "data": {
      "text/html": [
       "\n",
       "\n",
       "\n",
       "\n",
       "\n",
       "\n",
       "  <div class=\"bk-root\" id=\"0db565ac-7414-4b95-855d-d97e995fc62f\" data-root-id=\"1691\"></div>\n"
      ]
     },
     "metadata": {},
     "output_type": "display_data"
    },
    {
     "data": {
      "application/javascript": [
       "(function(root) {\n",
       "  function embed_document(root) {\n",
       "    \n",
       "  var docs_json = {\"9e48c9f3-1e50-45a3-b162-999b4b4ca3f9\":{\"roots\":{\"references\":[{\"attributes\":{\"below\":[{\"id\":\"1700\"}],\"center\":[{\"id\":\"1703\"},{\"id\":\"1707\"}],\"left\":[{\"id\":\"1704\"}],\"plot_height\":300,\"renderers\":[{\"id\":\"1713\"}],\"title\":{\"id\":\"1765\"},\"toolbar\":{\"id\":\"1708\"},\"x_range\":{\"id\":\"1692\"},\"x_scale\":{\"id\":\"1696\"},\"y_range\":{\"id\":\"1694\"},\"y_scale\":{\"id\":\"1698\"}},\"id\":\"1691\",\"subtype\":\"Figure\",\"type\":\"Plot\"},{\"attributes\":{\"fill_alpha\":{\"value\":0.1},\"fill_color\":{\"value\":\"#1f77b4\"},\"line_alpha\":{\"value\":0.1},\"line_color\":{\"value\":\"#1f77b4\"},\"size\":{\"units\":\"screen\",\"value\":20},\"x\":{\"field\":\"x\"},\"y\":{\"field\":\"y\"}},\"id\":\"1712\",\"type\":\"Circle\"},{\"attributes\":{},\"id\":\"1692\",\"type\":\"DataRange1d\"},{\"attributes\":{\"source\":{\"id\":\"1710\"}},\"id\":\"1714\",\"type\":\"CDSView\"},{\"attributes\":{\"fill_color\":{\"value\":\"#1f77b4\"},\"line_color\":{\"value\":\"#1f77b4\"},\"size\":{\"units\":\"screen\",\"value\":20},\"x\":{\"field\":\"x\"},\"y\":{\"field\":\"y\"}},\"id\":\"1711\",\"type\":\"Circle\"},{\"attributes\":{},\"id\":\"1698\",\"type\":\"LinearScale\"},{\"attributes\":{\"data\":{\"x\":[1,2,3,4,5],\"y\":[2,5,8,2,7]},\"selected\":{\"id\":\"1770\"},\"selection_policy\":{\"id\":\"1771\"}},\"id\":\"1710\",\"type\":\"ColumnDataSource\"},{\"attributes\":{},\"id\":\"1694\",\"type\":\"DataRange1d\"},{\"attributes\":{\"formatter\":{\"id\":\"1766\"},\"ticker\":{\"id\":\"1701\"}},\"id\":\"1700\",\"type\":\"LinearAxis\"},{\"attributes\":{},\"id\":\"1696\",\"type\":\"LinearScale\"},{\"attributes\":{},\"id\":\"1701\",\"type\":\"BasicTicker\"},{\"attributes\":{\"axis\":{\"id\":\"1700\"},\"ticker\":null},\"id\":\"1703\",\"type\":\"Grid\"},{\"attributes\":{\"data_source\":{\"id\":\"1710\"},\"glyph\":{\"id\":\"1711\"},\"hover_glyph\":null,\"muted_glyph\":null,\"nonselection_glyph\":{\"id\":\"1712\"},\"selection_glyph\":null,\"view\":{\"id\":\"1714\"}},\"id\":\"1713\",\"type\":\"GlyphRenderer\"},{\"attributes\":{\"formatter\":{\"id\":\"1768\"},\"ticker\":{\"id\":\"1705\"}},\"id\":\"1704\",\"type\":\"LinearAxis\"},{\"attributes\":{},\"id\":\"1770\",\"type\":\"Selection\"},{\"attributes\":{},\"id\":\"1705\",\"type\":\"BasicTicker\"},{\"attributes\":{\"code\":\"alert('you tapped a circle!')\"},\"id\":\"1689\",\"type\":\"CustomJS\"},{\"attributes\":{},\"id\":\"1771\",\"type\":\"UnionRenderers\"},{\"attributes\":{\"axis\":{\"id\":\"1704\"},\"dimension\":1,\"ticker\":null},\"id\":\"1707\",\"type\":\"Grid\"},{\"attributes\":{\"text\":\"\"},\"id\":\"1765\",\"type\":\"Title\"},{\"attributes\":{\"active_drag\":\"auto\",\"active_inspect\":\"auto\",\"active_multi\":null,\"active_scroll\":\"auto\",\"active_tap\":\"auto\",\"tools\":[{\"id\":\"1690\"}]},\"id\":\"1708\",\"type\":\"Toolbar\"},{\"attributes\":{},\"id\":\"1766\",\"type\":\"BasicTickFormatter\"},{\"attributes\":{\"callback\":{\"id\":\"1689\"}},\"id\":\"1690\",\"type\":\"TapTool\"},{\"attributes\":{},\"id\":\"1768\",\"type\":\"BasicTickFormatter\"}],\"root_ids\":[\"1691\"]},\"title\":\"Bokeh Application\",\"version\":\"2.1.1\"}};\n",
       "  var render_items = [{\"docid\":\"9e48c9f3-1e50-45a3-b162-999b4b4ca3f9\",\"root_ids\":[\"1691\"],\"roots\":{\"1691\":\"0db565ac-7414-4b95-855d-d97e995fc62f\"}}];\n",
       "  root.Bokeh.embed.embed_items_notebook(docs_json, render_items);\n",
       "\n",
       "  }\n",
       "  if (root.Bokeh !== undefined) {\n",
       "    embed_document(root);\n",
       "  } else {\n",
       "    var attempts = 0;\n",
       "    var timer = setInterval(function(root) {\n",
       "      if (root.Bokeh !== undefined) {\n",
       "        clearInterval(timer);\n",
       "        embed_document(root);\n",
       "      } else {\n",
       "        attempts++;\n",
       "        if (attempts > 100) {\n",
       "          clearInterval(timer);\n",
       "          console.log(\"Bokeh: ERROR: Unable to run BokehJS code because BokehJS library is missing\");\n",
       "        }\n",
       "      }\n",
       "    }, 10, root)\n",
       "  }\n",
       "})(window);"
      ],
      "application/vnd.bokehjs_exec.v0+json": ""
     },
     "metadata": {
      "application/vnd.bokehjs_exec.v0+json": {
       "id": "1691"
      }
     },
     "output_type": "display_data"
    }
   ],
   "source": [
    "from bokeh.models import TapTool, CustomJS, ColumnDataSource\n",
    "\n",
    "callback = CustomJS(code=\"alert('you tapped a circle!')\")\n",
    "tap = TapTool(callback=callback)\n",
    "\n",
    "p = figure(plot_width=600, plot_height=300, tools=[tap])\n",
    "\n",
    "p.circle(x=[1, 2, 3, 4, 5], y=[2, 5, 8, 2, 7], size=20)\n",
    "\n",
    "show(p)"
   ]
  },
  {
   "cell_type": "markdown",
   "metadata": {},
   "source": [
    "## CustomJS for Property changes\n",
    "\n",
    "Bokeh objects that have values associated can have small JavaScript actions attached to them using the `js_on_change` method. These actions (also referred to as \"callbacks\") are executed whenever the widget's value is changed. In order to make it easier to refer to specific Bokeh models (e.g., a data source, or a glyhph) from JavaScript, the ``CustomJS`` obejct also accepts a dictionary of \"args\" that map names to Python Bokeh models. The corresponding JavaScript models are made available automaticaly to the ``CustomJS`` code:\n",
    "\n",
    "```python\n",
    "CustomJS(args=dict(source=source, slider=slider), code=\"\"\"\n",
    "    // easily refer to BokehJS source and slider objects in this JS code\n",
    "    var data = source.data;\n",
    "    var f = slider.value;\n",
    "\"\"\")\n",
    "```"
   ]
  },
  {
   "cell_type": "markdown",
   "metadata": {},
   "source": [
    "### Slider widget example\n",
    "\n",
    "The example below shows an action attached to a slider that updates a data source whenever the slider is moved.  "
   ]
  },
  {
   "cell_type": "code",
   "execution_count": 10,
   "metadata": {},
   "outputs": [
    {
     "data": {
      "text/html": [
       "\n",
       "\n",
       "\n",
       "\n",
       "\n",
       "\n",
       "  <div class=\"bk-root\" id=\"026dafec-1ed1-405b-a4dd-eab054457ffc\" data-root-id=\"1859\"></div>\n"
      ]
     },
     "metadata": {},
     "output_type": "display_data"
    },
    {
     "data": {
      "application/javascript": [
       "(function(root) {\n",
       "  function embed_document(root) {\n",
       "    \n",
       "  var docs_json = {\"1dbbd415-1b2a-40cb-b523-3d208f99585b\":{\"roots\":{\"references\":[{\"attributes\":{\"children\":[{\"id\":\"1857\"},{\"id\":\"1821\"}]},\"id\":\"1859\",\"type\":\"Column\"},{\"attributes\":{\"data_source\":{\"id\":\"1820\"},\"glyph\":{\"id\":\"1853\"},\"hover_glyph\":null,\"muted_glyph\":null,\"nonselection_glyph\":{\"id\":\"1854\"},\"selection_glyph\":null,\"view\":{\"id\":\"1856\"}},\"id\":\"1855\",\"type\":\"GlyphRenderer\"},{\"attributes\":{\"bottom_units\":\"screen\",\"fill_alpha\":0.5,\"fill_color\":\"lightgrey\",\"left_units\":\"screen\",\"level\":\"overlay\",\"line_alpha\":1.0,\"line_color\":\"black\",\"line_dash\":[4,4],\"line_width\":2,\"right_units\":\"screen\",\"top_units\":\"screen\"},\"id\":\"1844\",\"type\":\"BoxAnnotation\"},{\"attributes\":{\"below\":[{\"id\":\"1830\"}],\"center\":[{\"id\":\"1833\"},{\"id\":\"1837\"}],\"left\":[{\"id\":\"1834\"}],\"plot_height\":400,\"plot_width\":400,\"renderers\":[{\"id\":\"1855\"}],\"title\":{\"id\":\"1918\"},\"toolbar\":{\"id\":\"1845\"},\"x_range\":{\"id\":\"1822\"},\"x_scale\":{\"id\":\"1826\"},\"y_range\":{\"id\":\"1824\"},\"y_scale\":{\"id\":\"1828\"}},\"id\":\"1821\",\"subtype\":\"Figure\",\"type\":\"Plot\"},{\"attributes\":{\"active_drag\":\"auto\",\"active_inspect\":\"auto\",\"active_multi\":null,\"active_scroll\":\"auto\",\"active_tap\":\"auto\",\"tools\":[{\"id\":\"1838\"},{\"id\":\"1839\"},{\"id\":\"1840\"},{\"id\":\"1841\"},{\"id\":\"1842\"},{\"id\":\"1843\"}]},\"id\":\"1845\",\"type\":\"Toolbar\"},{\"attributes\":{},\"id\":\"1826\",\"type\":\"LinearScale\"},{\"attributes\":{},\"id\":\"1921\",\"type\":\"BasicTickFormatter\"},{\"attributes\":{},\"id\":\"1822\",\"type\":\"DataRange1d\"},{\"attributes\":{\"formatter\":{\"id\":\"1919\"},\"ticker\":{\"id\":\"1831\"}},\"id\":\"1830\",\"type\":\"LinearAxis\"},{\"attributes\":{\"end\":6,\"format\":\"0[.]00\",\"js_property_callbacks\":{\"change:value\":[{\"id\":\"1858\"}]},\"start\":0.1,\"step\":0.1,\"title\":\"power\",\"value\":1},\"id\":\"1857\",\"type\":\"Slider\"},{\"attributes\":{},\"id\":\"1824\",\"type\":\"DataRange1d\"},{\"attributes\":{},\"id\":\"1828\",\"type\":\"LinearScale\"},{\"attributes\":{\"line_alpha\":0.6,\"line_color\":\"#1f77b4\",\"line_width\":3,\"x\":{\"field\":\"x\"},\"y\":{\"field\":\"y\"}},\"id\":\"1853\",\"type\":\"Line\"},{\"attributes\":{},\"id\":\"1838\",\"type\":\"PanTool\"},{\"attributes\":{},\"id\":\"1831\",\"type\":\"BasicTicker\"},{\"attributes\":{\"axis\":{\"id\":\"1830\"},\"ticker\":null},\"id\":\"1833\",\"type\":\"Grid\"},{\"attributes\":{},\"id\":\"1923\",\"type\":\"Selection\"},{\"attributes\":{\"formatter\":{\"id\":\"1921\"},\"ticker\":{\"id\":\"1835\"}},\"id\":\"1834\",\"type\":\"LinearAxis\"},{\"attributes\":{},\"id\":\"1924\",\"type\":\"UnionRenderers\"},{\"attributes\":{},\"id\":\"1835\",\"type\":\"BasicTicker\"},{\"attributes\":{\"axis\":{\"id\":\"1834\"},\"dimension\":1,\"ticker\":null},\"id\":\"1837\",\"type\":\"Grid\"},{\"attributes\":{},\"id\":\"1839\",\"type\":\"WheelZoomTool\"},{\"attributes\":{},\"id\":\"1843\",\"type\":\"HelpTool\"},{\"attributes\":{\"overlay\":{\"id\":\"1844\"}},\"id\":\"1840\",\"type\":\"BoxZoomTool\"},{\"attributes\":{},\"id\":\"1841\",\"type\":\"SaveTool\"},{\"attributes\":{},\"id\":\"1842\",\"type\":\"ResetTool\"},{\"attributes\":{},\"id\":\"1919\",\"type\":\"BasicTickFormatter\"},{\"attributes\":{\"line_alpha\":0.1,\"line_color\":\"#1f77b4\",\"line_width\":3,\"x\":{\"field\":\"x\"},\"y\":{\"field\":\"y\"}},\"id\":\"1854\",\"type\":\"Line\"},{\"attributes\":{\"text\":\"\"},\"id\":\"1918\",\"type\":\"Title\"},{\"attributes\":{\"source\":{\"id\":\"1820\"}},\"id\":\"1856\",\"type\":\"CDSView\"},{\"attributes\":{\"args\":{\"slider\":{\"id\":\"1857\"},\"source\":{\"id\":\"1820\"}},\"code\":\"\\n    var data = source.data;\\n    var f = slider.value;\\n    var x = data['x']\\n    var y = data['y']\\n    for (var i = 0; i < x.length; i++) {\\n        y[i] = Math.pow(x[i], f)\\n    }\\n    \\n    // necessary becasue we mutated source.data in-place\\n    source.change.emit();\\n\"},\"id\":\"1858\",\"type\":\"CustomJS\"},{\"attributes\":{\"data\":{\"x\":[0.0,0.005,0.01,0.015,0.02,0.025,0.03,0.035,0.04,0.045,0.05,0.055,0.06,0.065,0.07,0.075,0.08,0.085,0.09,0.095,0.1,0.105,0.11,0.115,0.12,0.125,0.13,0.135,0.14,0.145,0.15,0.155,0.16,0.165,0.17,0.17500000000000002,0.18,0.185,0.19,0.195,0.2,0.20500000000000002,0.21,0.215,0.22,0.225,0.23,0.23500000000000001,0.24,0.245,0.25,0.255,0.26,0.265,0.27,0.275,0.28,0.28500000000000003,0.29,0.295,0.3,0.305,0.31,0.315,0.32,0.325,0.33,0.335,0.34,0.34500000000000003,0.35000000000000003,0.355,0.36,0.365,0.37,0.375,0.38,0.385,0.39,0.395,0.4,0.405,0.41000000000000003,0.41500000000000004,0.42,0.425,0.43,0.435,0.44,0.445,0.45,0.455,0.46,0.465,0.47000000000000003,0.47500000000000003,0.48,0.485,0.49,0.495,0.5,0.505,0.51,0.515,0.52,0.525,0.53,0.535,0.54,0.545,0.55,0.555,0.56,0.5650000000000001,0.5700000000000001,0.5750000000000001,0.58,0.585,0.59,0.595,0.6,0.605,0.61,0.615,0.62,0.625,0.63,0.635,0.64,0.645,0.65,0.655,0.66,0.665,0.67,0.675,0.68,0.685,0.6900000000000001,0.6950000000000001,0.7000000000000001,0.705,0.71,0.715,0.72,0.725,0.73,0.735,0.74,0.745,0.75,0.755,0.76,0.765,0.77,0.775,0.78,0.785,0.79,0.795,0.8,0.805,0.81,0.8150000000000001,0.8200000000000001,0.8250000000000001,0.8300000000000001,0.835,0.84,0.845,0.85,0.855,0.86,0.865,0.87,0.875,0.88,0.885,0.89,0.895,0.9,0.905,0.91,0.915,0.92,0.925,0.93,0.935,0.9400000000000001,0.9450000000000001,0.9500000000000001,0.9550000000000001,0.96,0.965,0.97,0.975,0.98,0.985,0.99,0.995,1.0],\"y\":[0.0,0.005,0.01,0.015,0.02,0.025,0.03,0.035,0.04,0.045,0.05,0.055,0.06,0.065,0.07,0.075,0.08,0.085,0.09,0.095,0.1,0.105,0.11,0.115,0.12,0.125,0.13,0.135,0.14,0.145,0.15,0.155,0.16,0.165,0.17,0.17500000000000002,0.18,0.185,0.19,0.195,0.2,0.20500000000000002,0.21,0.215,0.22,0.225,0.23,0.23500000000000001,0.24,0.245,0.25,0.255,0.26,0.265,0.27,0.275,0.28,0.28500000000000003,0.29,0.295,0.3,0.305,0.31,0.315,0.32,0.325,0.33,0.335,0.34,0.34500000000000003,0.35000000000000003,0.355,0.36,0.365,0.37,0.375,0.38,0.385,0.39,0.395,0.4,0.405,0.41000000000000003,0.41500000000000004,0.42,0.425,0.43,0.435,0.44,0.445,0.45,0.455,0.46,0.465,0.47000000000000003,0.47500000000000003,0.48,0.485,0.49,0.495,0.5,0.505,0.51,0.515,0.52,0.525,0.53,0.535,0.54,0.545,0.55,0.555,0.56,0.5650000000000001,0.5700000000000001,0.5750000000000001,0.58,0.585,0.59,0.595,0.6,0.605,0.61,0.615,0.62,0.625,0.63,0.635,0.64,0.645,0.65,0.655,0.66,0.665,0.67,0.675,0.68,0.685,0.6900000000000001,0.6950000000000001,0.7000000000000001,0.705,0.71,0.715,0.72,0.725,0.73,0.735,0.74,0.745,0.75,0.755,0.76,0.765,0.77,0.775,0.78,0.785,0.79,0.795,0.8,0.805,0.81,0.8150000000000001,0.8200000000000001,0.8250000000000001,0.8300000000000001,0.835,0.84,0.845,0.85,0.855,0.86,0.865,0.87,0.875,0.88,0.885,0.89,0.895,0.9,0.905,0.91,0.915,0.92,0.925,0.93,0.935,0.9400000000000001,0.9450000000000001,0.9500000000000001,0.9550000000000001,0.96,0.965,0.97,0.975,0.98,0.985,0.99,0.995,1.0]},\"selected\":{\"id\":\"1923\"},\"selection_policy\":{\"id\":\"1924\"}},\"id\":\"1820\",\"type\":\"ColumnDataSource\"}],\"root_ids\":[\"1859\"]},\"title\":\"Bokeh Application\",\"version\":\"2.1.1\"}};\n",
       "  var render_items = [{\"docid\":\"1dbbd415-1b2a-40cb-b523-3d208f99585b\",\"root_ids\":[\"1859\"],\"roots\":{\"1859\":\"026dafec-1ed1-405b-a4dd-eab054457ffc\"}}];\n",
       "  root.Bokeh.embed.embed_items_notebook(docs_json, render_items);\n",
       "\n",
       "  }\n",
       "  if (root.Bokeh !== undefined) {\n",
       "    embed_document(root);\n",
       "  } else {\n",
       "    var attempts = 0;\n",
       "    var timer = setInterval(function(root) {\n",
       "      if (root.Bokeh !== undefined) {\n",
       "        clearInterval(timer);\n",
       "        embed_document(root);\n",
       "      } else {\n",
       "        attempts++;\n",
       "        if (attempts > 100) {\n",
       "          clearInterval(timer);\n",
       "          console.log(\"Bokeh: ERROR: Unable to run BokehJS code because BokehJS library is missing\");\n",
       "        }\n",
       "      }\n",
       "    }, 10, root)\n",
       "  }\n",
       "})(window);"
      ],
      "application/vnd.bokehjs_exec.v0+json": ""
     },
     "metadata": {
      "application/vnd.bokehjs_exec.v0+json": {
       "id": "1859"
      }
     },
     "output_type": "display_data"
    }
   ],
   "source": [
    "from bokeh.layouts import column\n",
    "from bokeh.models import CustomJS, ColumnDataSource, Slider\n",
    "\n",
    "x = [x*0.005 for x in range(0, 201)]\n",
    "\n",
    "source = ColumnDataSource(data=dict(x=x, y=x))\n",
    "\n",
    "plot = figure(plot_width=400, plot_height=400)\n",
    "plot.line('x', 'y', source=source, line_width=3, line_alpha=0.6)\n",
    "\n",
    "slider = Slider(start=0.1, end=6, value=1, step=.1, title=\"power\")\n",
    "\n",
    "update_curve = CustomJS(args=dict(source=source, slider=slider), code=\"\"\"\n",
    "    var data = source.data;\n",
    "    var f = slider.value;\n",
    "    var x = data['x']\n",
    "    var y = data['y']\n",
    "    for (var i = 0; i < x.length; i++) {\n",
    "        y[i] = Math.pow(x[i], f)\n",
    "    }\n",
    "    \n",
    "    // necessary becasue we mutated source.data in-place\n",
    "    source.change.emit();\n",
    "\"\"\")\n",
    "slider.js_on_change('value', update_curve)\n",
    "\n",
    "\n",
    "show(column(slider, plot))"
   ]
  },
  {
   "cell_type": "code",
   "execution_count": 11,
   "metadata": {},
   "outputs": [],
   "source": [
    "# Exercise: Create a plot that updates based on a Select widget\n",
    "\n"
   ]
  },
  {
   "cell_type": "markdown",
   "metadata": {},
   "source": [
    "### Data selection example\n",
    "\n",
    "It's also possible to make JavaScript actions that execute whenever a user selection (e.g., box, point, lasso) changes. This is done by attaching the same kind of CustomJS object to whatever data source the selection is made on.\n",
    "\n",
    "The example below is a bit more sophisticated, and demonstrates updating one glyph's data source in response to another glyph's selection: "
   ]
  },
  {
   "cell_type": "code",
   "execution_count": 12,
   "metadata": {},
   "outputs": [
    {
     "data": {
      "text/html": [
       "\n",
       "\n",
       "\n",
       "\n",
       "\n",
       "\n",
       "  <div class=\"bk-root\" id=\"ec89ded2-a0ac-441a-a2ed-3dbea2445f0d\" data-root-id=\"1981\"></div>\n"
      ]
     },
     "metadata": {},
     "output_type": "display_data"
    },
    {
     "data": {
      "application/javascript": [
       "(function(root) {\n",
       "  function embed_document(root) {\n",
       "    \n",
       "  var docs_json = {\"fa6e4af9-755c-44a7-98a6-e37757d81c93\":{\"roots\":{\"references\":[{\"attributes\":{\"below\":[{\"id\":\"1992\"}],\"center\":[{\"id\":\"1995\"},{\"id\":\"1999\"}],\"left\":[{\"id\":\"1996\"}],\"plot_height\":400,\"plot_width\":400,\"renderers\":[{\"id\":\"2008\"},{\"id\":\"2014\"}],\"title\":{\"id\":\"1982\"},\"toolbar\":{\"id\":\"2002\"},\"x_range\":{\"id\":\"1984\"},\"x_scale\":{\"id\":\"1988\"},\"y_range\":{\"id\":\"1986\"},\"y_scale\":{\"id\":\"1990\"}},\"id\":\"1981\",\"subtype\":\"Figure\",\"type\":\"Plot\"},{\"attributes\":{\"fill_alpha\":0.5,\"fill_color\":\"lightgrey\",\"level\":\"overlay\",\"line_alpha\":1.0,\"line_color\":\"black\",\"line_dash\":[4,4],\"line_width\":2,\"xs_units\":\"screen\",\"ys_units\":\"screen\"},\"id\":\"2001\",\"type\":\"PolyAnnotation\"},{\"attributes\":{\"data\":{\"xm\":[0,1],\"ym\":[0.5,0.5]},\"selected\":{\"id\":\"2092\"},\"selection_policy\":{\"id\":\"2093\"}},\"id\":\"2010\",\"type\":\"ColumnDataSource\"},{\"attributes\":{},\"id\":\"2092\",\"type\":\"Selection\"},{\"attributes\":{},\"id\":\"2093\",\"type\":\"UnionRenderers\"},{\"attributes\":{\"overlay\":{\"id\":\"2001\"}},\"id\":\"2000\",\"type\":\"LassoSelectTool\"},{\"attributes\":{},\"id\":\"1997\",\"type\":\"BasicTicker\"},{\"attributes\":{\"fill_alpha\":{\"value\":0.1},\"fill_color\":{\"field\":\"color\"},\"line_alpha\":{\"value\":0.1},\"line_color\":{\"field\":\"color\"},\"size\":{\"units\":\"screen\",\"value\":8},\"x\":{\"field\":\"x\"},\"y\":{\"field\":\"y\"}},\"id\":\"2006\",\"type\":\"Circle\"},{\"attributes\":{\"source\":{\"id\":\"1980\"}},\"id\":\"2009\",\"type\":\"CDSView\"},{\"attributes\":{},\"id\":\"1990\",\"type\":\"LinearScale\"},{\"attributes\":{\"data_source\":{\"id\":\"1980\"},\"glyph\":{\"id\":\"2005\"},\"hover_glyph\":null,\"muted_glyph\":null,\"nonselection_glyph\":{\"id\":\"2006\"},\"selection_glyph\":{\"id\":\"2007\"},\"view\":{\"id\":\"2009\"}},\"id\":\"2008\",\"type\":\"GlyphRenderer\"},{\"attributes\":{\"data_source\":{\"id\":\"2010\"},\"glyph\":{\"id\":\"2012\"},\"hover_glyph\":null,\"muted_glyph\":null,\"nonselection_glyph\":{\"id\":\"2013\"},\"selection_glyph\":null,\"view\":{\"id\":\"2015\"}},\"id\":\"2014\",\"type\":\"GlyphRenderer\"},{\"attributes\":{\"fill_alpha\":{\"value\":0.4},\"fill_color\":{\"value\":\"firebrick\"},\"line_alpha\":{\"value\":0.4},\"line_color\":{\"value\":\"firebrick\"},\"size\":{\"units\":\"screen\",\"value\":8},\"x\":{\"field\":\"x\"},\"y\":{\"field\":\"y\"}},\"id\":\"2007\",\"type\":\"Circle\"},{\"attributes\":{},\"id\":\"2087\",\"type\":\"BasicTickFormatter\"},{\"attributes\":{\"fill_alpha\":{\"value\":0.4},\"fill_color\":{\"field\":\"color\"},\"line_alpha\":{\"value\":0.4},\"line_color\":{\"field\":\"color\"},\"size\":{\"units\":\"screen\",\"value\":8},\"x\":{\"field\":\"x\"},\"y\":{\"field\":\"y\"}},\"id\":\"2005\",\"type\":\"Circle\"},{\"attributes\":{\"data\":{\"color\":[\"navy\",\"navy\",\"navy\",\"navy\",\"navy\",\"navy\",\"navy\",\"navy\",\"navy\",\"navy\",\"navy\",\"navy\",\"navy\",\"navy\",\"navy\",\"navy\",\"navy\",\"navy\",\"navy\",\"navy\",\"navy\",\"navy\",\"navy\",\"navy\",\"navy\",\"navy\",\"navy\",\"navy\",\"navy\",\"navy\",\"navy\",\"navy\",\"navy\",\"navy\",\"navy\",\"navy\",\"navy\",\"navy\",\"navy\",\"navy\",\"navy\",\"navy\",\"navy\",\"navy\",\"navy\",\"navy\",\"navy\",\"navy\",\"navy\",\"navy\",\"navy\",\"navy\",\"navy\",\"navy\",\"navy\",\"navy\",\"navy\",\"navy\",\"navy\",\"navy\",\"navy\",\"navy\",\"navy\",\"navy\",\"navy\",\"navy\",\"navy\",\"navy\",\"navy\",\"navy\",\"navy\",\"navy\",\"navy\",\"navy\",\"navy\",\"navy\",\"navy\",\"navy\",\"navy\",\"navy\",\"navy\",\"navy\",\"navy\",\"navy\",\"navy\",\"navy\",\"navy\",\"navy\",\"navy\",\"navy\",\"navy\",\"navy\",\"navy\",\"navy\",\"navy\",\"navy\",\"navy\",\"navy\",\"navy\",\"navy\",\"navy\",\"navy\",\"navy\",\"navy\",\"navy\",\"navy\",\"navy\",\"navy\",\"navy\",\"navy\",\"navy\",\"navy\",\"navy\",\"navy\",\"navy\",\"navy\",\"navy\",\"navy\",\"navy\",\"navy\",\"navy\",\"navy\",\"navy\",\"navy\",\"navy\",\"navy\",\"navy\",\"navy\",\"navy\",\"navy\",\"navy\",\"navy\",\"navy\",\"navy\",\"navy\",\"navy\",\"navy\",\"navy\",\"navy\",\"navy\",\"navy\",\"navy\",\"navy\",\"navy\",\"navy\",\"navy\",\"navy\",\"navy\",\"navy\",\"navy\",\"navy\",\"navy\",\"navy\",\"navy\",\"navy\",\"navy\",\"navy\",\"navy\",\"navy\",\"navy\",\"navy\",\"navy\",\"navy\",\"navy\",\"navy\",\"navy\",\"navy\",\"navy\",\"navy\",\"navy\",\"navy\",\"navy\",\"navy\",\"navy\",\"navy\",\"navy\",\"navy\",\"navy\",\"navy\",\"navy\",\"navy\",\"navy\",\"navy\",\"navy\",\"navy\",\"navy\",\"navy\",\"navy\",\"navy\",\"navy\",\"navy\",\"navy\",\"navy\",\"navy\",\"navy\",\"navy\",\"navy\",\"navy\",\"navy\",\"navy\",\"navy\",\"navy\",\"navy\",\"navy\",\"navy\",\"navy\",\"navy\",\"navy\",\"navy\",\"navy\",\"navy\",\"navy\",\"navy\",\"navy\",\"navy\",\"navy\",\"navy\",\"navy\",\"navy\",\"navy\",\"navy\",\"navy\",\"navy\",\"navy\",\"navy\",\"navy\",\"navy\",\"navy\",\"navy\",\"navy\",\"navy\",\"navy\",\"navy\",\"navy\",\"navy\",\"navy\",\"navy\",\"navy\",\"navy\",\"navy\",\"navy\",\"navy\",\"navy\",\"navy\",\"navy\",\"navy\",\"navy\",\"navy\",\"navy\",\"navy\",\"navy\",\"navy\",\"navy\",\"navy\",\"navy\",\"navy\",\"navy\",\"navy\",\"navy\",\"navy\",\"navy\",\"navy\",\"navy\",\"navy\",\"navy\",\"navy\",\"navy\",\"navy\",\"navy\",\"navy\",\"navy\",\"navy\",\"navy\",\"navy\",\"navy\",\"navy\",\"navy\",\"navy\",\"navy\",\"navy\",\"navy\",\"navy\",\"navy\",\"navy\",\"navy\",\"navy\",\"navy\",\"navy\",\"navy\",\"navy\",\"navy\",\"navy\",\"navy\",\"navy\",\"navy\",\"navy\",\"navy\",\"navy\",\"navy\",\"navy\",\"navy\",\"navy\",\"navy\",\"navy\",\"navy\",\"navy\",\"navy\",\"navy\",\"navy\",\"navy\",\"navy\",\"navy\",\"navy\",\"navy\",\"navy\",\"navy\",\"navy\",\"navy\",\"navy\",\"navy\",\"navy\",\"navy\",\"navy\",\"navy\",\"navy\",\"navy\",\"navy\",\"navy\",\"navy\",\"navy\",\"navy\",\"navy\",\"navy\",\"navy\",\"navy\",\"navy\",\"navy\",\"navy\",\"navy\",\"navy\",\"navy\",\"navy\",\"navy\",\"navy\",\"navy\",\"navy\",\"navy\",\"navy\",\"navy\",\"navy\",\"navy\",\"navy\",\"navy\",\"navy\",\"navy\",\"navy\",\"navy\",\"navy\",\"navy\",\"navy\",\"navy\",\"navy\",\"navy\",\"navy\",\"navy\",\"navy\",\"navy\",\"navy\",\"navy\",\"navy\",\"navy\",\"navy\",\"navy\",\"navy\",\"navy\",\"navy\",\"navy\",\"navy\",\"navy\",\"navy\",\"navy\",\"navy\",\"navy\",\"navy\",\"navy\",\"navy\",\"navy\",\"navy\",\"navy\",\"navy\",\"navy\",\"navy\",\"navy\",\"navy\",\"navy\",\"navy\",\"navy\",\"navy\",\"navy\",\"navy\",\"navy\",\"navy\",\"navy\",\"navy\",\"navy\",\"navy\",\"navy\",\"navy\",\"navy\",\"navy\",\"navy\",\"navy\",\"navy\",\"navy\",\"navy\",\"navy\",\"navy\",\"navy\",\"navy\",\"navy\",\"navy\",\"navy\",\"navy\",\"navy\",\"navy\",\"navy\",\"navy\",\"navy\",\"navy\",\"navy\",\"navy\",\"navy\",\"navy\",\"navy\",\"navy\",\"navy\",\"navy\",\"navy\",\"navy\",\"navy\",\"navy\",\"navy\",\"navy\",\"navy\",\"navy\",\"navy\",\"navy\",\"navy\",\"navy\",\"navy\",\"navy\",\"navy\",\"navy\",\"navy\",\"navy\",\"navy\",\"navy\",\"navy\",\"navy\",\"navy\",\"navy\",\"navy\",\"navy\",\"navy\",\"navy\",\"navy\",\"navy\",\"navy\",\"navy\",\"navy\",\"navy\",\"navy\",\"navy\",\"navy\",\"navy\",\"navy\",\"navy\",\"navy\",\"navy\",\"navy\",\"navy\",\"navy\",\"navy\",\"navy\",\"navy\",\"navy\",\"navy\",\"navy\",\"navy\",\"navy\",\"navy\",\"navy\",\"navy\",\"navy\",\"navy\",\"navy\",\"navy\",\"navy\",\"navy\",\"navy\"],\"x\":[0.6043899220281087,0.16858759075771956,0.9344808802023364,0.761198281107328,0.31556003860529114,0.6103380919456636,0.8885475109258597,0.6568305250632392,0.13006053533563788,0.039212786511178654,0.6303461660982704,0.5765283021464566,0.9821367123365433,0.3549005101523467,0.12912635383596704,0.8352240437844635,0.5420791613388618,0.9841644793720564,0.8053151227732778,0.4754656683020456,0.37388056622876487,0.5943372820572231,0.2346572545042548,0.8146569690865048,0.6078101522273788,0.2440369576517566,0.16096074808515315,0.8819642504654924,0.32735189053707514,0.4257022397992344,0.18423781936904715,0.5425363235208436,0.18072520578933848,0.9735329320408962,0.19098549358989114,0.673534139723921,0.9981581937531253,0.22231309618375394,0.7548319046843416,0.43699120597285446,0.859114518570706,0.2532352972891513,0.4275671374265634,0.46171803369648257,0.03849522629992996,0.420580391484894,0.13982204124763653,0.9171404829467055,0.813616582051111,0.1319604870371457,0.8537821697902802,0.13057012522844735,0.07507606129620714,0.31876713791202727,0.3678610474294979,0.49481131343369367,0.6953229748842726,0.2778931296412921,0.6735281276082665,0.4464627815350918,0.8921239773659019,0.05125568662933133,0.4765485287919823,0.7269086300874089,0.05185589018138792,0.5688093639277335,0.6225613888461137,0.7265242570728938,0.3211985649222654,0.4008090447427475,0.4936140358019677,0.8382019419327164,0.9482662813757764,0.3360234476625894,0.3929242296816772,0.5731048031740597,0.09685612619033535,0.7208528917675081,0.4492448918421946,0.4190744373096076,0.39844295750872305,0.38863998764559593,0.970539643299764,0.3381845970849957,0.6302137388818554,0.26824636526752643,0.4761595614959523,0.7560738827211101,0.005113583079938588,0.6311717990299159,0.3678827611716733,0.8671375834409075,0.8448300694805659,0.7067176542199343,0.05586188166593764,0.0036255975397029294,0.9214668436423329,0.7986851387304209,0.8129622455190187,0.897383978468929,0.8015573595810536,0.5969692365449878,0.5776574350155861,0.6609250544392418,0.8393529440497889,0.7141817874301728,0.17371957774532354,0.650036201730387,0.7138449484330243,0.3588203251787323,0.4935085538188645,0.026898667247180486,0.507724389054343,0.23712399057595535,0.5781493164288335,0.2399814073568688,0.8228404215065737,0.13608413380293982,0.7518019883555158,0.24446079601091775,0.26277442925215355,0.3781268923244159,0.81872216093714,0.2550266556564774,0.07243847899742273,0.5566277362409598,0.8152524124853882,0.5701414535585982,0.7816708253722572,0.3369966906094247,0.5135453461449139,0.5032038753953391,0.5569180068274321,0.5300892071432087,0.585817284008169,0.9589499413570504,0.2798649559544447,0.8601357359163625,0.4598643012246457,0.699962746335954,0.5595623185751428,0.10891436058943893,0.39355855718996213,0.5500463707965934,0.9470757484353993,0.2505997514206162,0.8840801297079331,0.07325867227245453,0.9893458147412918,0.7362573213429572,0.21677372165594655,0.8298297028431174,0.08788016300311674,0.9074667207199039,0.012407219171644224,0.2776337359323433,0.5072881455462654,0.2302434617665693,0.6663119350295255,0.7425301503535274,0.553076703155841,0.2537868648106688,0.6662510467825273,0.4306049392295196,0.7018242321305455,0.7515532369609681,0.7925603873300435,0.9075786870217742,0.8733561344147058,0.08498769629074887,0.007329401716551387,0.016071294197794406,0.6370159955028023,0.19720026738989116,0.4813894374893717,0.1721759580196518,0.2522311409889201,0.10414871367943979,0.854384514429453,0.3220631096001698,0.19479968142525528,0.5631728862309339,0.8789508561125525,0.4408645517528247,0.9754998433290929,0.9591136751585283,0.37656453608039775,0.565884046990514,0.6497101798220863,0.19804933518395618,0.9164115833539,0.002993020863314655,0.07887938179096399,0.6944531822247509,0.7526016597893446,0.027648061936443424,0.125187378722593,0.48468826636320084,0.04662730126897274,0.7522717393407932,0.6749893226305873,0.8946958915899803,0.580426414203691,0.8284489922421975,0.7944836460790505,0.4576953264126128,0.1098566343502394,0.16325732391904324,0.45749893087895066,0.43348281715143133,0.08300899525274275,0.3780315745840659,0.07234543944558025,0.6348691258269987,0.3259155754503674,0.5767880747983739,0.5418108471923163,0.08541222487062605,0.003229448347344288,0.9204544545219576,0.19293970395752802,0.18083489020092747,0.04529577484921676,0.293029451665916,0.4080490015882918,0.40674494675901396,0.31653697427373095,0.9789724394257572,0.7716353228420632,0.03958912616553978,0.8292416494038125,0.5892857533118311,0.0930233723850804,0.3299394610582982,0.5790857672330706,0.3564890659857106,0.1327477497649272,0.4470618134718829,0.41474016859110496,0.8877068286403182,0.8729920997173695,0.2774293810477648,0.2851202785389555,0.3648728295285706,0.12267141702912088,0.04572944828708714,0.9119733122551751,0.3643327137567558,0.43186882228171386,0.7635001257906636,0.9891657539650321,0.41614983627738156,0.46727939486093273,0.038441261971619345,0.287224862334158,0.9666916750195548,0.08619125058410226,0.7787080262967618,0.9048314948411126,0.6765702702184593,0.8528717549064946,0.42604123830471197,0.6264452413064376,0.7230671787006203,0.4812500837190309,0.08255617446518015,0.3219176849890395,0.13078234975948877,0.5792787857394551,0.562641288034212,0.566145560338184,0.3615391508738084,0.701479372873459,0.8514282970033061,0.9100985036678495,0.4279711458439319,0.8676707907950404,0.23643736880626576,0.18083830774791798,0.10011691295218472,0.06630836320298683,0.3407902134376328,0.27780092371567233,0.5917611282771517,0.5323078655477406,0.8578236068039093,0.5136743428357738,0.9223541144595867,0.9329107738506359,0.16850842391806786,0.892471715285493,0.725808802842306,0.7635182417943541,0.25907943830140523,0.7044512870948014,0.5768969155868041,0.01764290810350644,0.3827628213914046,0.022137570471346346,0.8302663004194106,0.9551433021134957,0.20821721936150728,0.5967970619190266,0.7110114737775582,0.8439625122894958,0.22013859005913117,0.30944774346339543,0.05659024864999396,0.4197968628878823,0.7100434321439403,0.30381534109694297,0.9990830941050608,0.38882897236198255,0.3955729262389578,0.23345878209585802,0.4073412880166677,0.3835008401025466,0.46706829477510614,0.797098417755128,0.49197771277839175,0.3755127603223539,0.5985961529825347,0.47114142697679806,0.8232390006009903,0.6680803407739545,0.7354864685252261,0.10512482592137318,0.042313641340035235,0.529985076521554,0.2639495014060149,0.08001353877644046,0.38891904999843674,0.19317004703271246,0.8484574277680051,0.07965776622255405,0.040164282905727156,0.08223642859092783,0.34810607612645805,0.8390609712858548,0.36189681437891963,0.42011170013799504,0.9283186295596011,0.5717845677084874,0.17491802682888546,0.7747895381558937,0.9227190548202076,0.4734693188834779,0.7320832648227481,0.7366679904142593,0.18728481205366942,0.005112906095429692,0.6994441979013167,0.012834189510307348,0.3674777610319019,0.25520388891688894,0.7502398541357945,0.919575952046577,0.20860858101854884,0.4349702075408539,0.5032684526761423,0.6160750663204614,0.6246794109558758,0.11534443060729804,0.8276765667210005,0.28572338889955573,0.6142861743248751,0.14871245488870388,0.05819378459743407,0.37162308432189384,0.7301647406077432,0.9012633726214195,0.683938242120621,0.5871292908588065,0.25235618617624955,0.10124529133666627,0.28017100808650297,0.2738688729656207,0.8559894487412282,0.5191925599317353,0.8875813044716593,0.266419785268599,0.749908510815081,0.7095755839325676,0.832052412552005,0.5314031425481403,0.12620750061923525,0.8112130999328494,0.5999178267781878,0.1939202584998817,0.6256552815799982,0.5231827995047309,0.3599989409733043,0.39421816460073,0.7283315324329349,0.21107167480752032,0.7602904248151209,0.6903485628944768,0.571546822246456,0.9082664262357811,0.31320830380785714,0.6578257426127775,0.6386545644240115,0.7740932672561038,0.46849412043316996,0.4389666853401927,0.3607405171698036,0.9838201330423428,0.24406636230897516,0.02910362843044134,0.13140844313678735,0.08616875442927363,0.9147526030353494,0.8044568457913363,0.5000451996800988,0.9695497177555544,0.11993268315715144,0.9834378863080381,0.19885162455876415,0.6558690802374572,0.5577188958135462,0.6799712152795236,0.13349241585668226,0.6490655590268445,0.36991817598943355,0.6567440777460396,0.09783362618468372,0.5279130776639274,0.8409651953048205,0.3820554482409283,0.017212499567918815,0.9981473718330257,0.9742380286343834,0.7589338229254167,0.10294057473122364,0.3566934174608912,0.9678124099640133,0.178427245084393,0.3686942520037956,0.9182552451904549,0.18522351816539584,0.3555129566386681,0.4316921899312224,0.40660301214736394,0.7556816028628442,0.6585061637964555,0.6741544368936012,0.1834590384090704,0.07872990251579737,0.2380435597360846,0.019719985244350036,0.7715685202217715,0.24864588316553826,0.14535826401467766,0.780264441749042,0.46783077059227973,0.17026397331364607,0.09127681244991115,0.2265594552621315,0.6985143885844718,0.48424325454493455,0.6343733237320924,0.24878082128665402,0.14109641096516712,0.8580473124554828,0.5101548858753413,0.44540524507574764,0.41201161479526405,0.6352787466580532,0.3843073982368558,0.3242864092996559,0.08992207320739198,0.03922918443525203,0.9499956510084698,0.7628992835128712,0.6914142413238011,0.7177458249569469,0.8387485937929118,0.09917385292256653,0.8464718571720815,0.20525953528083973,0.6990863480544569,0.56594924843327,0.6626680951909019,0.9160305793017929,0.9929407618160714,0.46239274406457,0.6327588845014817,0.014306718460951884,0.9667040438074013,0.7111572278209233,0.009160466218454788,0.7623177276130084,0.8101710471003345,0.7590619113185987,0.06984314278729165,0.23645241118480076,0.865748899271195,0.43867452983026933,0.16163130091181632,0.19587285570542612],\"y\":[0.7514061589015762,0.9317361142131684,0.48346126507240283,0.9316941646951263,0.7207318190690624,0.8888623778245821,0.7185023879226089,0.7889717186086112,0.7751215689634184,0.9742682117874389,0.5537919453527299,0.5042193777723881,0.4963053160119647,0.5631189659635563,0.26960208913890527,0.7387767041978821,0.25398714877630746,0.5238988039565624,0.2780646926457214,0.12202210593902962,0.7731036730976731,0.04569055165285041,0.026208245012431908,0.8521939320839677,0.007219441415778016,0.871161184083769,0.7130216972842698,0.5608396591396813,0.3818078971502131,0.012475509235541526,0.5279252143575528,0.6167877826975832,0.8241860384809488,0.69633270922338,0.23570203813544177,0.3460714489375296,0.631494838339379,0.15488728197108725,0.4318426260289979,0.5579225557613583,0.39744948098447486,0.4890352770202516,0.9762500417187032,0.3115189605393158,0.47406714623593615,0.6377191982977884,0.7524665550555732,0.8261218160472381,0.9759799311540449,0.5736275538733072,0.984426108191464,0.4114239317891383,0.8828164907717266,0.9489259166224181,0.43599180433114315,0.6019527052965277,0.7144972802061696,0.2925229842987692,0.07300179035899668,0.8299414077725719,0.7895077306148112,0.012214881910202924,0.03978697406971421,0.3240183131134393,0.027593481538282227,0.8674750795101176,0.8343348241900113,0.6218133317088718,0.3387610395988613,0.7740136105824804,0.2594901903203203,0.7565879657711932,0.10490683370368714,0.020833818158476847,0.7035302910604032,0.35030014519275243,0.483831243627191,0.19023029161323435,0.8138940439865519,0.6029711181900657,0.3074059745983093,0.34936420512978505,0.12381337567615225,0.1690165833457734,0.5345773718621186,0.694229729758761,0.6584328109076995,0.5274652105249656,0.1961530305298802,0.25306258229076395,0.6225276508671073,0.9703271665733652,0.4502305482948128,0.510931995163337,0.9994770681038637,0.2530106577186211,0.2587487081355676,0.6940235453664548,0.3520683948618698,0.5280399955448819,0.9575228010512667,0.0221240042788885,0.20961766608066312,0.7718659411399966,0.05246403945243727,0.5650563489736152,0.661852742771997,0.07730744870407791,0.007679522448970411,0.6729276885948373,0.3776397404896087,0.7291996144464896,0.36584188440435994,0.06319781218934084,0.9024496225702278,0.9498601636494669,0.7725148309042619,0.7269306652208584,0.7770718310577782,0.4710440546242637,0.2303754983024483,0.9940986448937001,0.5631939310378415,0.16212134638228037,0.3761783198904324,0.7966749964456332,0.016308199135033008,0.8880448104753134,0.7858104232607772,0.06212077433573804,0.9941753960069596,0.7208308792681751,0.19633971945553752,0.10754836074965379,0.6403058206286308,0.0015532630230811195,0.6491260900722795,0.4249528129919463,0.07908037663112699,0.6303873396721775,0.29903210318498696,0.08026891210950671,0.19672981650141363,0.6134557067732281,0.26291590760943295,0.5794804876910692,0.035728883899087904,0.9512343160257423,0.031372415018183664,0.9403551206873828,0.6972581715350825,0.00855012568476976,0.27347077392420494,0.3211269406007594,0.2725582772399975,0.890584594381013,0.7355340354342194,0.13921697428516566,0.34937213212061113,0.4107830309081435,0.4155523051435347,0.49799309549149795,0.776755707478648,0.6113622414961402,0.482524693261733,0.06519988353955297,0.9866249995848348,0.4962464196960653,0.34247477583064634,0.4912757855749259,0.5284754452804253,0.501663721856059,0.6429696626834435,0.6470656363113758,0.006673935727555147,0.7617356258178448,0.6372607501190504,0.6882022805591489,0.6484495057553544,0.6590296358664598,0.2713715956143299,0.8274149980370707,0.7576920532917869,0.10246902123773005,0.9590907636853215,0.9182563217538523,0.6306232716751639,0.4110776850696206,0.33566359716278127,0.742828562127505,0.7938907200138997,0.5203819320609112,0.5268309095627786,0.9597198729502441,0.6576874808231817,0.8570518193643472,0.4129921687540413,0.9191612359097618,0.29301628152665893,0.027277334177679857,0.7437888028967751,0.36493818424028,0.7130797752773959,0.04321315379442148,0.7220830124810969,0.4753011786916448,0.06449033918928748,0.36801928487127433,0.2302784130491673,0.47069200721030946,0.48603854945305835,0.3149435842315791,0.5664130098512496,0.5538764097325691,0.7628604919993571,0.30765473480739525,0.7285828780529,0.4131036559018031,0.6199366051425068,0.23366073012180255,0.41911216393177375,0.07381400989732678,0.7677229647299934,0.12935635519466837,0.7691762084751353,0.37328320991590946,0.49903313530659843,0.01904250047037348,0.4411098782419347,0.09006724640538422,0.4997714559717724,0.7799005346114762,0.909971023947793,0.9501565621552118,0.20431704151922614,0.4950085205336088,0.8089094111294874,0.8177823067982958,0.33514642112354975,0.9228907102003718,0.36630139439523,0.7667975650541343,0.7913139457527069,0.9940626482201861,0.5168349301242874,0.986212679596715,0.8433339185964034,0.2627358122970228,0.026931458198598213,0.3488014398321242,0.6642009291998068,0.11820619327777204,0.13120445509487333,0.7961498751317218,0.2431014116712069,0.45634355948052774,0.4628812925128162,0.014285707865136499,0.05838072003106365,0.13769080870656802,0.07537597024276277,0.8521260210838042,0.5391795874364497,0.14085499117448697,0.22214936702347787,0.7126087954776273,0.8999473550503458,0.20427425653372944,0.5874829659227996,0.20269755015261537,0.9479501560145334,0.4417207531929145,0.5926263164873119,0.973727920096997,0.6657183913237368,0.7957964672810527,0.35772732680070274,0.10109554108053942,0.5881265461673872,0.35302114609310264,0.5634584014095778,0.16656748832718715,0.48591105556025815,0.4881499413683694,0.31281044479561915,0.3602775001756081,0.0626939932389311,0.8633898415460887,0.7390460509044692,0.7665450406325375,0.7539938140441617,0.9611966798950731,0.039368118090798654,0.9811971703000668,0.19372651160361065,0.5148428501414914,0.8014783025375329,0.019008452799671782,0.2651351664955115,0.23628891108580186,0.8053542589145862,0.9317052725275043,0.8579301350849974,0.9642398111353064,0.5048155485111085,0.5108361762869041,0.27080139590973407,0.12885659294860474,0.9305019359651757,0.5474345792021059,0.2852675676422476,0.7131622427763997,0.8499226971935173,0.6731400431367686,0.17901386821778287,0.12082415377883438,0.9336919787861923,0.2390389485837464,0.30520768151421296,0.2654277033849124,0.4738119822913537,0.9049569091231177,0.2613241323433969,0.8863745312397849,0.6982416750751764,0.14869423880390498,0.25881240789118065,0.9799568399183785,0.19676337524216192,0.4425877889201606,0.38782481055426243,0.6727106415063628,0.6817341499178362,0.16361289623047814,0.9224314555871602,0.4641502189767672,0.33897721910756473,0.04393971880836278,0.8600897089165083,0.2368243280939294,0.9926184856035273,0.4019154583657627,0.33050229603057724,0.43025454366844407,0.3746239191686863,0.8616885327630806,0.7859091611739979,0.6036598961343776,0.13762439391412273,0.24589516520781074,0.34661471549782763,0.6305807809392845,0.12108230099064876,0.5520245697028148,0.12841584761820612,0.867788022894417,0.9097501933566889,0.7896219480338419,0.8674004627482534,0.5749605683152385,0.845543811076646,0.6457562682759719,0.26447166722691673,0.047672916495925755,0.34674217295765153,0.4670738797604347,0.5840127899933382,0.5533977782887861,0.0679469245876616,0.6747590491722282,0.9432962230223707,0.4686096686835901,0.7321038112645909,0.16095583736381014,0.7746615932704767,0.9931451093082712,0.6168069057278881,0.9032054535654737,0.6525480120655487,0.3515105907354543,0.4884894692494858,0.6327485295757153,0.3208509119265681,0.2724217242011099,0.050821384121270685,0.506731919361858,0.835575910963497,0.7149026494057599,0.7362382496056549,0.995150159853291,0.3428866647454314,0.013001911469612826,0.828580447573518,0.20518761611198377,0.22181276950786433,0.28822573536517526,0.41856327200081256,0.7866625774868546,0.3181318457947079,0.5120098375209319,0.6526239880973743,0.8079610417448246,0.37282902930109996,0.4164736327667137,0.06308350574012067,0.6344985480399788,0.4339734272168517,0.19173521207366329,0.46893106753231273,0.04886537010299108,0.2881188347178636,0.21080133543608914,0.29738088746686486,0.9531527618506918,0.3910409595309241,0.7825628582035974,0.3096191939175076,0.4031315391281457,0.32173653607427555,0.20599836532210258,0.3302824642945321,0.4532653136939844,0.006772950720854598,0.999206017081873,0.74253888148046,0.7920087816999468,0.3237847469464995,0.9288259541817437,0.08303494599264527,0.6784715626982413,0.01076815770884798,0.012689781281489232,0.3829510429811277,0.11362162512002938,0.34530149177490155,0.3454226588356192,0.6157562448387338,0.5380640069084656,0.01789106795479245,0.8526065448880367,0.3423424617787917,0.5665508400703912,0.8708780974880241,0.7554818044876042,0.4568750704002926,0.9680444010757351,0.9679666439226224,0.8272830463146644,0.5032687644442997,0.7904963833799292,0.23107389650019194,0.7839648912535061,0.45298307056949927,0.7063694030818374,0.9444542709393113,0.35324471251771283,0.5689542638118222,0.604770213797807,0.9105158129750772,0.650426727242904,0.8091998134969793,0.10334219351801988,0.5133494431599134,0.998057657912091,0.1881070099053398,0.02119663718089415,0.5890324587604943,0.8713134356148712,0.3565741237830641,0.6399918492957318,0.4413523710106293,0.8290638849609873,0.9860625104639038,0.1441925280147729,0.7834230325540791,0.4832859576701527,0.049463091176549456,0.11142930389573902,0.2517416000738669,0.771498886416879,0.7965076436224232,0.22032509053694105,0.7877127144064954,0.07660227354773064,0.48365436476374624,0.449746508680555,0.6232329195049263,0.3165516859109282,0.9651726661754483,0.815466069062411,0.938089105104346,0.5560965723471903,0.42982402131450803,0.5789866174224151,0.9137812740919395,0.9154107126583395,0.6876984695704914,0.552148196336828,0.7862274087568334,0.4103266497403407]},\"selected\":{\"id\":\"2017\"},\"selection_policy\":{\"id\":\"2091\"}},\"id\":\"1980\",\"type\":\"ColumnDataSource\"},{\"attributes\":{\"line_alpha\":0.1,\"line_color\":\"orange\",\"line_width\":5,\"x\":{\"field\":\"xm\"},\"y\":{\"field\":\"ym\"}},\"id\":\"2013\",\"type\":\"Line\"},{\"attributes\":{},\"id\":\"1986\",\"type\":\"DataRange1d\"},{\"attributes\":{\"line_alpha\":0.6,\"line_color\":\"orange\",\"line_width\":5,\"x\":{\"field\":\"xm\"},\"y\":{\"field\":\"ym\"}},\"id\":\"2012\",\"type\":\"Line\"},{\"attributes\":{\"args\":{\"s1\":{\"id\":\"1980\"},\"s2\":{\"id\":\"2010\"}},\"code\":\"\\n    var inds = s1.selected.indices;\\n    if (inds.length == 0)\\n        return;\\n\\n    var ym = 0\\n    for (var i = 0; i < inds.length; i++) {\\n        ym += s1.data.y[inds[i]]\\n    }\\n    \\n    ym /= inds.length\\n    s2.data.ym = [ym, ym]\\n\\n    // necessary becasue we mutated source.data in-place\\n    s2.change.emit();  \\n\"},\"id\":\"2016\",\"type\":\"CustomJS\"},{\"attributes\":{\"source\":{\"id\":\"2010\"}},\"id\":\"2015\",\"type\":\"CDSView\"},{\"attributes\":{\"text\":\"Select Here\"},\"id\":\"1982\",\"type\":\"Title\"},{\"attributes\":{},\"id\":\"1984\",\"type\":\"DataRange1d\"},{\"attributes\":{\"formatter\":{\"id\":\"2085\"},\"ticker\":{\"id\":\"1993\"}},\"id\":\"1992\",\"type\":\"LinearAxis\"},{\"attributes\":{},\"id\":\"1993\",\"type\":\"BasicTicker\"},{\"attributes\":{\"formatter\":{\"id\":\"2087\"},\"ticker\":{\"id\":\"1997\"}},\"id\":\"1996\",\"type\":\"LinearAxis\"},{\"attributes\":{\"js_property_callbacks\":{\"change:indices\":[{\"id\":\"2016\"}]}},\"id\":\"2017\",\"type\":\"Selection\"},{\"attributes\":{},\"id\":\"1988\",\"type\":\"LinearScale\"},{\"attributes\":{\"axis\":{\"id\":\"1992\"},\"ticker\":null},\"id\":\"1995\",\"type\":\"Grid\"},{\"attributes\":{},\"id\":\"2091\",\"type\":\"UnionRenderers\"},{\"attributes\":{\"axis\":{\"id\":\"1996\"},\"dimension\":1,\"ticker\":null},\"id\":\"1999\",\"type\":\"Grid\"},{\"attributes\":{\"active_drag\":\"auto\",\"active_inspect\":\"auto\",\"active_multi\":null,\"active_scroll\":\"auto\",\"active_tap\":\"auto\",\"tools\":[{\"id\":\"2000\"}]},\"id\":\"2002\",\"type\":\"Toolbar\"},{\"attributes\":{},\"id\":\"2085\",\"type\":\"BasicTickFormatter\"}],\"root_ids\":[\"1981\"]},\"title\":\"Bokeh Application\",\"version\":\"2.1.1\"}};\n",
       "  var render_items = [{\"docid\":\"fa6e4af9-755c-44a7-98a6-e37757d81c93\",\"root_ids\":[\"1981\"],\"roots\":{\"1981\":\"ec89ded2-a0ac-441a-a2ed-3dbea2445f0d\"}}];\n",
       "  root.Bokeh.embed.embed_items_notebook(docs_json, render_items);\n",
       "\n",
       "  }\n",
       "  if (root.Bokeh !== undefined) {\n",
       "    embed_document(root);\n",
       "  } else {\n",
       "    var attempts = 0;\n",
       "    var timer = setInterval(function(root) {\n",
       "      if (root.Bokeh !== undefined) {\n",
       "        clearInterval(timer);\n",
       "        embed_document(root);\n",
       "      } else {\n",
       "        attempts++;\n",
       "        if (attempts > 100) {\n",
       "          clearInterval(timer);\n",
       "          console.log(\"Bokeh: ERROR: Unable to run BokehJS code because BokehJS library is missing\");\n",
       "        }\n",
       "      }\n",
       "    }, 10, root)\n",
       "  }\n",
       "})(window);"
      ],
      "application/vnd.bokehjs_exec.v0+json": ""
     },
     "metadata": {
      "application/vnd.bokehjs_exec.v0+json": {
       "id": "1981"
      }
     },
     "output_type": "display_data"
    }
   ],
   "source": [
    "from random import random\n",
    "\n",
    "x = [random() for x in range(500)]\n",
    "y = [random() for y in range(500)]\n",
    "color = [\"navy\"] * len(x)\n",
    "\n",
    "s1 = ColumnDataSource(data=dict(x=x, y=y, color=color))\n",
    "p = figure(plot_width=400, plot_height=400, tools=\"lasso_select\", title=\"Select Here\")\n",
    "p.circle('x', 'y', color='color', size=8, alpha=0.4, source=s1, \n",
    "         selection_color=\"firebrick\", selection_alpha=0.4)\n",
    "\n",
    "s2 = ColumnDataSource(data=dict(xm=[0,1],ym=[0.5, 0.5]))\n",
    "p.line(x='xm', y='ym', color=\"orange\", line_width=5, alpha=0.6, source=s2)\n",
    "\n",
    "callback = CustomJS(args=dict(s1=s1, s2=s2), code=\"\"\"\n",
    "    var inds = s1.selected.indices;\n",
    "    if (inds.length == 0)\n",
    "        return;\n",
    "\n",
    "    var ym = 0\n",
    "    for (var i = 0; i < inds.length; i++) {\n",
    "        ym += s1.data.y[inds[i]]\n",
    "    }\n",
    "    \n",
    "    ym /= inds.length\n",
    "    s2.data.ym = [ym, ym]\n",
    "\n",
    "    // necessary becasue we mutated source.data in-place\n",
    "    s2.change.emit();  \n",
    "\"\"\")\n",
    "\n",
    "s1.selected.js_on_change('indices', callback)\n",
    "\n",
    "show(p)"
   ]
  },
  {
   "cell_type": "code",
   "execution_count": 13,
   "metadata": {},
   "outputs": [],
   "source": [
    "# Exercise: Experiment with selection callbacks\n",
    "\n"
   ]
  },
  {
   "cell_type": "markdown",
   "metadata": {},
   "source": [
    "## CustomJS for UI Events\n",
    "\n",
    "Bokeh also has a general events system\n",
    "\n",
    "All of the available UI events, and their properties, are listed in the Reference Guide section for [bokeh.events](https://bokeh.pydata.org/en/latest/docs/reference/events.html)"
   ]
  },
  {
   "cell_type": "code",
   "execution_count": 14,
   "metadata": {},
   "outputs": [
    {
     "data": {
      "text/html": [
       "\n",
       "\n",
       "\n",
       "\n",
       "\n",
       "\n",
       "  <div class=\"bk-root\" id=\"b1fd68ce-5573-4bb2-8903-153c6f76f9d4\" data-root-id=\"2183\"></div>\n"
      ]
     },
     "metadata": {},
     "output_type": "display_data"
    },
    {
     "data": {
      "application/javascript": [
       "(function(root) {\n",
       "  function embed_document(root) {\n",
       "    \n",
       "  var docs_json = {\"5c4e2b0b-85dc-4f8f-9f0f-d89d67ef182c\":{\"roots\":{\"references\":[{\"attributes\":{\"children\":[{\"id\":\"2181\"},{\"id\":\"2182\"}]},\"id\":\"2183\",\"type\":\"Column\"},{\"attributes\":{},\"id\":\"2157\",\"type\":\"DataRange1d\"},{\"attributes\":{\"fill_alpha\":{\"value\":0.1},\"fill_color\":{\"value\":\"#1f77b4\"},\"line_alpha\":{\"value\":0.1},\"line_color\":{\"value\":null},\"radius\":{\"units\":\"data\",\"value\":1},\"x\":{\"field\":\"x\"},\"y\":{\"field\":\"y\"}},\"id\":\"2177\",\"type\":\"Circle\"},{\"attributes\":{\"source\":{\"id\":\"2175\"}},\"id\":\"2179\",\"type\":\"CDSView\"},{\"attributes\":{},\"id\":\"2266\",\"type\":\"BasicTickFormatter\"},{\"attributes\":{\"icon\":null,\"js_event_callbacks\":{\"button_click\":[{\"id\":\"2184\"}]},\"width\":300},\"id\":\"2181\",\"type\":\"Button\"},{\"attributes\":{},\"id\":\"2269\",\"type\":\"Selection\"},{\"attributes\":{\"below\":[{\"id\":\"2163\"}],\"center\":[{\"id\":\"2166\"},{\"id\":\"2170\"}],\"js_event_callbacks\":{\"selectiongeometry\":[{\"id\":\"2185\"}]},\"left\":[{\"id\":\"2167\"}],\"renderers\":[{\"id\":\"2178\"}],\"title\":{\"id\":\"2263\"},\"toolbar\":{\"id\":\"2173\"},\"x_range\":{\"id\":\"2155\"},\"x_scale\":{\"id\":\"2159\"},\"y_range\":{\"id\":\"2157\"},\"y_scale\":{\"id\":\"2161\"}},\"id\":\"2154\",\"subtype\":\"Figure\",\"type\":\"Plot\"},{\"attributes\":{\"overlay\":{\"id\":\"2172\"}},\"id\":\"2171\",\"type\":\"BoxSelectTool\"},{\"attributes\":{},\"id\":\"2168\",\"type\":\"BasicTicker\"},{\"attributes\":{\"data\":{\"x\":{\"__ndarray__\":\"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\",\"dtype\":\"float64\",\"order\":\"little\",\"shape\":[2000]},\"y\":{\"__ndarray__\":\"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\",\"dtype\":\"float64\",\"order\":\"little\",\"shape\":[2000]}},\"selected\":{\"id\":\"2269\"},\"selection_policy\":{\"id\":\"2270\"}},\"id\":\"2175\",\"type\":\"ColumnDataSource\"},{\"attributes\":{\"children\":[{\"id\":\"2154\"},{\"id\":\"2180\"}]},\"id\":\"2182\",\"type\":\"Row\"},{\"attributes\":{},\"id\":\"2155\",\"type\":\"DataRange1d\"},{\"attributes\":{\"axis\":{\"id\":\"2163\"},\"ticker\":null},\"id\":\"2166\",\"type\":\"Grid\"},{\"attributes\":{\"formatter\":{\"id\":\"2264\"},\"ticker\":{\"id\":\"2164\"}},\"id\":\"2163\",\"type\":\"LinearAxis\"},{\"attributes\":{},\"id\":\"2270\",\"type\":\"UnionRenderers\"},{\"attributes\":{\"args\":{\"div\":{\"id\":\"2180\"}},\"code\":\"\\ndiv.text = \\\"Button!\\\";\\n\"},\"id\":\"2184\",\"type\":\"CustomJS\"},{\"attributes\":{},\"id\":\"2164\",\"type\":\"BasicTicker\"},{\"attributes\":{\"bottom_units\":\"screen\",\"fill_alpha\":0.5,\"fill_color\":\"lightgrey\",\"left_units\":\"screen\",\"level\":\"overlay\",\"line_alpha\":1.0,\"line_color\":\"black\",\"line_dash\":[4,4],\"line_width\":2,\"right_units\":\"screen\",\"top_units\":\"screen\"},\"id\":\"2172\",\"type\":\"BoxAnnotation\"},{\"attributes\":{\"data_source\":{\"id\":\"2175\"},\"glyph\":{\"id\":\"2176\"},\"hover_glyph\":null,\"muted_glyph\":null,\"nonselection_glyph\":{\"id\":\"2177\"},\"selection_glyph\":null,\"view\":{\"id\":\"2179\"}},\"id\":\"2178\",\"type\":\"GlyphRenderer\"},{\"attributes\":{\"axis\":{\"id\":\"2167\"},\"dimension\":1,\"ticker\":null},\"id\":\"2170\",\"type\":\"Grid\"},{\"attributes\":{\"width\":400},\"id\":\"2180\",\"type\":\"Div\"},{\"attributes\":{\"fill_alpha\":{\"value\":0.6},\"fill_color\":{\"value\":\"#1f77b4\"},\"line_color\":{\"value\":null},\"radius\":{\"units\":\"data\",\"value\":1},\"x\":{\"field\":\"x\"},\"y\":{\"field\":\"y\"}},\"id\":\"2176\",\"type\":\"Circle\"},{\"attributes\":{},\"id\":\"2161\",\"type\":\"LinearScale\"},{\"attributes\":{\"formatter\":{\"id\":\"2266\"},\"ticker\":{\"id\":\"2168\"}},\"id\":\"2167\",\"type\":\"LinearAxis\"},{\"attributes\":{\"active_drag\":\"auto\",\"active_inspect\":\"auto\",\"active_multi\":null,\"active_scroll\":\"auto\",\"active_tap\":\"auto\",\"tools\":[{\"id\":\"2171\"}]},\"id\":\"2173\",\"type\":\"Toolbar\"},{\"attributes\":{\"text\":\"\"},\"id\":\"2263\",\"type\":\"Title\"},{\"attributes\":{\"args\":{\"div\":{\"id\":\"2180\"}},\"code\":\"\\ndiv.text = \\\"Selection! <p> <p>\\\" + JSON.stringify(cb_obj.geometry, undefined, 2);\\n\"},\"id\":\"2185\",\"type\":\"CustomJS\"},{\"attributes\":{},\"id\":\"2159\",\"type\":\"LinearScale\"},{\"attributes\":{},\"id\":\"2264\",\"type\":\"BasicTickFormatter\"}],\"root_ids\":[\"2183\"]},\"title\":\"Bokeh Application\",\"version\":\"2.1.1\"}};\n",
       "  var render_items = [{\"docid\":\"5c4e2b0b-85dc-4f8f-9f0f-d89d67ef182c\",\"root_ids\":[\"2183\"],\"roots\":{\"2183\":\"b1fd68ce-5573-4bb2-8903-153c6f76f9d4\"}}];\n",
       "  root.Bokeh.embed.embed_items_notebook(docs_json, render_items);\n",
       "\n",
       "  }\n",
       "  if (root.Bokeh !== undefined) {\n",
       "    embed_document(root);\n",
       "  } else {\n",
       "    var attempts = 0;\n",
       "    var timer = setInterval(function(root) {\n",
       "      if (root.Bokeh !== undefined) {\n",
       "        clearInterval(timer);\n",
       "        embed_document(root);\n",
       "      } else {\n",
       "        attempts++;\n",
       "        if (attempts > 100) {\n",
       "          clearInterval(timer);\n",
       "          console.log(\"Bokeh: ERROR: Unable to run BokehJS code because BokehJS library is missing\");\n",
       "        }\n",
       "      }\n",
       "    }, 10, root)\n",
       "  }\n",
       "})(window);"
      ],
      "application/vnd.bokehjs_exec.v0+json": ""
     },
     "metadata": {
      "application/vnd.bokehjs_exec.v0+json": {
       "id": "2183"
      }
     },
     "output_type": "display_data"
    }
   ],
   "source": [
    "from bokeh.plotting import figure\n",
    "from bokeh import events\n",
    "from bokeh.models import CustomJS, Div, Button\n",
    "from bokeh.layouts import column, row\n",
    "\n",
    "import numpy as np\n",
    "x = np.random.random(size=2000) * 100\n",
    "y = np.random.random(size=2000) * 100\n",
    "\n",
    "p = figure(tools=\"box_select\")\n",
    "p.scatter(x, y, radius=1, fill_alpha=0.6, line_color=None)\n",
    "\n",
    "div = Div(width=400)\n",
    "button = Button(label=\"Button\", width=300)\n",
    "layout = column(button, row(p, div))\n",
    "\n",
    "# Events with no attributes\n",
    "button.js_on_event(events.ButtonClick,  CustomJS(args=dict(div=div), code=\"\"\"\n",
    "div.text = \"Button!\";\n",
    "\"\"\")) \n",
    "\n",
    "p.js_on_event(events.SelectionGeometry, CustomJS(args=dict(div=div), code=\"\"\"\n",
    "div.text = \"Selection! <p> <p>\" + JSON.stringify(cb_obj.geometry, undefined, 2);\n",
    "\"\"\"))\n",
    "\n",
    "show(layout)"
   ]
  },
  {
   "cell_type": "code",
   "execution_count": 15,
   "metadata": {},
   "outputs": [],
   "source": [
    "# Exercise: Create a plot that responds to different events from bokeh.events\n",
    "\n"
   ]
  },
  {
   "cell_type": "markdown",
   "metadata": {},
   "source": [
    "## Additional Information\n",
    "\n",
    "There are many kinds of interactions and events that can be connected to `CustomJS` callbacks. \n",
    "\n",
    "\n",
    "* Widgets - Button, Toggle, Dropdown, TextInput, AutocompleteInput, Select, Multiselect, Slider, (DateRangeSlider), DatePicker,\n",
    "* Tools - TapTool, BoxSelectTool, HoverTool,\n",
    "* Selection - ColumnDataSource, AjaxDataSource, BlazeDataSource, ServerDataSource\n",
    "* Ranges - Range1d, DataRange1d, FactorRange\n",
    "\n",
    "\n",
    "For more complete examples the User Guide section on [JavaScript Interactions](https://bokeh.pydata.org/en/latest/docs/user_guide/interaction.html)"
   ]
  },
  {
   "cell_type": "markdown",
   "metadata": {},
   "source": [
    "# Next Section"
   ]
  },
  {
   "cell_type": "markdown",
   "metadata": {},
   "source": [
    "Click on this link to go to the next notebook: [07 - Bar and Categorical Data Plots](07%20-%20Bar%20and%20Categorical%20Data%20Plots.ipynb).\n",
    "\n",
    "To go back to the overview, click [here](00%20-%20Introduction%20and%20Setup.ipynb)."
   ]
  },
  {
   "cell_type": "code",
   "execution_count": null,
   "metadata": {},
   "outputs": [],
   "source": []
  }
 ],
 "metadata": {
  "anaconda-cloud": {},
  "kernelspec": {
   "display_name": "Python 3",
   "language": "python",
   "name": "python3"
  },
  "language_info": {
   "codemirror_mode": {
    "name": "ipython",
    "version": 3
   },
   "file_extension": ".py",
   "mimetype": "text/x-python",
   "name": "python",
   "nbconvert_exporter": "python",
   "pygments_lexer": "ipython3",
   "version": "3.8.3"
  }
 },
 "nbformat": 4,
 "nbformat_minor": 4
}
